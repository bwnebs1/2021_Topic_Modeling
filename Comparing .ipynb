{
 "cells": [
  {
   "cell_type": "code",
   "execution_count": 1,
   "id": "c9e42609",
   "metadata": {
    "id": "c9e42609"
   },
   "outputs": [],
   "source": [
    "import pandas as pd\n",
    "import numpy as np\n",
    "from sklearn.utils import shuffle\n",
    "from sklearn.feature_extraction.text import CountVectorizer\n",
    "from sklearn.feature_extraction.text import TfidfVectorizer\n",
    "from sklearn.linear_model import LogisticRegression\n",
    "from gensim import corpora\n",
    "from gensim import models"
   ]
  },
  {
   "cell_type": "code",
   "execution_count": 15,
   "id": "fddaaa88",
   "metadata": {
    "id": "fddaaa88"
   },
   "outputs": [],
   "source": [
    "path='/Volumes/GoogleDrive/내 드라이브/2021-2/커텍마/과제/Final Project/FINAL/'\n",
    "csv='.csv'\n",
    "\n",
    "company_list=['당근마켓','라인플러스','무신사','비바리퍼블리카','우아한형제들','카카오','크래프톤','하이퍼커넥트','COUPANG','NAVER']\n",
    "\n",
    "review_list=[]\n",
    "career_list=[]\n",
    "life_list=[]\n",
    "money_list=[]\n",
    "culture_list=[]\n",
    "manager_list=[]\n",
    "overall_list=[]\n",
    "sentiment_list=[]\n",
    "\n",
    "for i in range(len(company_list)):\n",
    "    data=pd.read_csv(path+company_list[i]+csv, header=0, index_col=0)\n",
    "    data['overall']=np.mean(data,axis=1)\n",
    "    review_list.append(list(data.review))\n",
    "    career_list.append(list(data.career))\n",
    "    life_list.append(list(data.life))\n",
    "    money_list.append(list(data.money))\n",
    "    culture_list.append(list(data.culture))\n",
    "    manager_list.append(list(data.manager))\n",
    "    overall_list.append(list(data.overall))\n",
    "\n",
    "for i in range(len(company_list)):\n",
    "    for j in range(len(overall_list[i])):\n",
    "        if overall_list[i][j]>3.5:\n",
    "            sentiment_list.append('positive')\n",
    "        elif overall_list[i][j]<2.5:\n",
    "            sentiment_list.append('negative')\n",
    "        else: sentiment_list.append('neutral')"
   ]
  },
  {
   "cell_type": "code",
   "execution_count": 16,
   "id": "d4b2f638",
   "metadata": {
    "id": "d4b2f638"
   },
   "outputs": [],
   "source": [
    "import konlpy.tag\n",
    "import re"
   ]
  },
  {
   "cell_type": "code",
   "execution_count": 17,
   "id": "01960430",
   "metadata": {
    "id": "01960430"
   },
   "outputs": [],
   "source": [
    "for i in range(len(company_list)):\n",
    "    for j in range(len(review_list[i])):\n",
    "        review_list[i][j]=re.sub(r'[^\\s\\w\\d]',' ', review_list[i][j])"
   ]
  },
  {
   "cell_type": "code",
   "execution_count": 18,
   "id": "0b0219b7",
   "metadata": {
    "id": "0b0219b7",
    "outputId": "97c209a5-4c92-474c-dbd7-76e895d6f840"
   },
   "outputs": [
    {
     "name": "stderr",
     "output_type": "stream",
     "text": [
      "/Users/ijaehwan/opt/anaconda3/lib/python3.8/site-packages/konlpy/tag/_okt.py:16: UserWarning: \"Twitter\" has changed to \"Okt\" since KoNLPy v0.4.5.\n",
      "  warn('\"Twitter\" has changed to \"Okt\" since KoNLPy v0.4.5.')\n"
     ]
    }
   ],
   "source": [
    "twitter=konlpy.tag.Twitter()\n",
    "nva_word=[[],[],[],[],[],[],[],[],[],[],[],[],[],[],[],[],[],[],[],[]]\n",
    "dummy_list=[]\n",
    "\n",
    "for i in range(len(company_list)):\n",
    "    for j in range(len(review_list[i])):\n",
    "        twitter_morphs=twitter.pos(review_list[i][j])\n",
    "        for word, pos in twitter_morphs:\n",
    "            if pos == 'Noun' or pos == 'Verb' or pos == 'Adjective':\n",
    "                dummy_list.append(word)\n",
    "        nva_word[i].append(dummy_list)\n",
    "        dummy_list=[]"
   ]
  },
  {
   "cell_type": "code",
   "execution_count": 19,
   "id": "d0a5a62c",
   "metadata": {
    "id": "d0a5a62c"
   },
   "outputs": [],
   "source": [
    "unique_nva=[]\n",
    "for i in range(len(nva_word)):\n",
    "    for j in range(len(nva_word[i])):\n",
    "        unique_nva.append(list(set(nva_word[i][j])))\n",
    "    \n",
    "uni_nva=[]\n",
    "for i in range(len(unique_nva)):\n",
    "    for j in range(len(unique_nva[i])):\n",
    "        uni_nva.append(unique_nva[i][j])\n",
    "        \n",
    "uni_nva=set(uni_nva)\n",
    "\n",
    "stopword=['회사','라벨','있는','하는', '게임']\n",
    "\n",
    "#전처리\n",
    "for i in range(len(nva_word)):\n",
    "    for j in range(len(nva_word[i])):\n",
    "        for word in uni_nva:\n",
    "            if len(word)<2:\n",
    "                while word in nva_word[i][j]: nva_word[i][j].remove(word)\n",
    "            if word in stopword:\n",
    "                while word in nva_word[i][j]: nva_word[i][j].remove(word)"
   ]
  },
  {
   "cell_type": "code",
   "execution_count": 20,
   "id": "0d5a6723",
   "metadata": {
    "id": "0d5a6723",
    "outputId": "fd64f0e1-3a2b-4bec-cfb1-3439b3bf0dcf"
   },
   "outputs": [
    {
     "data": {
      "text/html": [
       "<div>\n",
       "<style scoped>\n",
       "    .dataframe tbody tr th:only-of-type {\n",
       "        vertical-align: middle;\n",
       "    }\n",
       "\n",
       "    .dataframe tbody tr th {\n",
       "        vertical-align: top;\n",
       "    }\n",
       "\n",
       "    .dataframe thead th {\n",
       "        text-align: right;\n",
       "    }\n",
       "</style>\n",
       "<table border=\"1\" class=\"dataframe\">\n",
       "  <thead>\n",
       "    <tr style=\"text-align: right;\">\n",
       "      <th></th>\n",
       "      <th>NounVerbAdj</th>\n",
       "      <th>career</th>\n",
       "      <th>life</th>\n",
       "      <th>money</th>\n",
       "      <th>culture</th>\n",
       "      <th>manager</th>\n",
       "      <th>overall</th>\n",
       "      <th>sentiment</th>\n",
       "    </tr>\n",
       "  </thead>\n",
       "  <tbody>\n",
       "    <tr>\n",
       "      <th>0</th>\n",
       "      <td>[밸류, 인정, 받고, 방황]</td>\n",
       "      <td>3</td>\n",
       "      <td>3</td>\n",
       "      <td>3</td>\n",
       "      <td>3</td>\n",
       "      <td>2</td>\n",
       "      <td>2.8</td>\n",
       "      <td>neutral</td>\n",
       "    </tr>\n",
       "    <tr>\n",
       "      <th>1</th>\n",
       "      <td>[들어온지, 마안, 됐지만, 좋아, 보여요]</td>\n",
       "      <td>5</td>\n",
       "      <td>5</td>\n",
       "      <td>5</td>\n",
       "      <td>5</td>\n",
       "      <td>5</td>\n",
       "      <td>5.0</td>\n",
       "      <td>positive</td>\n",
       "    </tr>\n",
       "    <tr>\n",
       "      <th>2</th>\n",
       "      <td>[열정, 실력, 갖추는, 조직]</td>\n",
       "      <td>5</td>\n",
       "      <td>5</td>\n",
       "      <td>5</td>\n",
       "      <td>5</td>\n",
       "      <td>5</td>\n",
       "      <td>5.0</td>\n",
       "      <td>positive</td>\n",
       "    </tr>\n",
       "    <tr>\n",
       "      <th>3</th>\n",
       "      <td>[로켓, 성장하는]</td>\n",
       "      <td>5</td>\n",
       "      <td>5</td>\n",
       "      <td>5</td>\n",
       "      <td>5</td>\n",
       "      <td>5</td>\n",
       "      <td>5.0</td>\n",
       "      <td>positive</td>\n",
       "    </tr>\n",
       "    <tr>\n",
       "      <th>4</th>\n",
       "      <td>[워워벨, 보장, 되는]</td>\n",
       "      <td>4</td>\n",
       "      <td>3</td>\n",
       "      <td>5</td>\n",
       "      <td>5</td>\n",
       "      <td>3</td>\n",
       "      <td>4.0</td>\n",
       "      <td>positive</td>\n",
       "    </tr>\n",
       "    <tr>\n",
       "      <th>...</th>\n",
       "      <td>...</td>\n",
       "      <td>...</td>\n",
       "      <td>...</td>\n",
       "      <td>...</td>\n",
       "      <td>...</td>\n",
       "      <td>...</td>\n",
       "      <td>...</td>\n",
       "      <td>...</td>\n",
       "    </tr>\n",
       "    <tr>\n",
       "      <th>6535</th>\n",
       "      <td>[개인주의, 능력자, 모임]</td>\n",
       "      <td>4</td>\n",
       "      <td>2</td>\n",
       "      <td>4</td>\n",
       "      <td>2</td>\n",
       "      <td>3</td>\n",
       "      <td>3.0</td>\n",
       "      <td>neutral</td>\n",
       "    </tr>\n",
       "    <tr>\n",
       "      <th>6536</th>\n",
       "      <td>[좋다고, 느껴지는]</td>\n",
       "      <td>5</td>\n",
       "      <td>4</td>\n",
       "      <td>4</td>\n",
       "      <td>5</td>\n",
       "      <td>4</td>\n",
       "      <td>4.4</td>\n",
       "      <td>positive</td>\n",
       "    </tr>\n",
       "    <tr>\n",
       "      <th>6537</th>\n",
       "      <td>[네이버]</td>\n",
       "      <td>5</td>\n",
       "      <td>5</td>\n",
       "      <td>5</td>\n",
       "      <td>4</td>\n",
       "      <td>4</td>\n",
       "      <td>4.6</td>\n",
       "      <td>positive</td>\n",
       "    </tr>\n",
       "    <tr>\n",
       "      <th>6538</th>\n",
       "      <td>[동료, 보고, 배울, 있음]</td>\n",
       "      <td>5</td>\n",
       "      <td>4</td>\n",
       "      <td>5</td>\n",
       "      <td>5</td>\n",
       "      <td>3</td>\n",
       "      <td>4.4</td>\n",
       "      <td>positive</td>\n",
       "    </tr>\n",
       "    <tr>\n",
       "      <th>6539</th>\n",
       "      <td>[그럼에도, 네이버]</td>\n",
       "      <td>5</td>\n",
       "      <td>3</td>\n",
       "      <td>4</td>\n",
       "      <td>4</td>\n",
       "      <td>3</td>\n",
       "      <td>3.8</td>\n",
       "      <td>positive</td>\n",
       "    </tr>\n",
       "  </tbody>\n",
       "</table>\n",
       "<p>6540 rows × 8 columns</p>\n",
       "</div>"
      ],
      "text/plain": [
       "                   NounVerbAdj career life money culture manager overall  \\\n",
       "0             [밸류, 인정, 받고, 방황]      3    3     3       3       2     2.8   \n",
       "1     [들어온지, 마안, 됐지만, 좋아, 보여요]      5    5     5       5       5     5.0   \n",
       "2            [열정, 실력, 갖추는, 조직]      5    5     5       5       5     5.0   \n",
       "3                   [로켓, 성장하는]      5    5     5       5       5     5.0   \n",
       "4                [워워벨, 보장, 되는]      4    3     5       5       3     4.0   \n",
       "...                        ...    ...  ...   ...     ...     ...     ...   \n",
       "6535           [개인주의, 능력자, 모임]      4    2     4       2       3     3.0   \n",
       "6536               [좋다고, 느껴지는]      5    4     4       5       4     4.4   \n",
       "6537                     [네이버]      5    5     5       4       4     4.6   \n",
       "6538          [동료, 보고, 배울, 있음]      5    4     5       5       3     4.4   \n",
       "6539               [그럼에도, 네이버]      5    3     4       4       3     3.8   \n",
       "\n",
       "     sentiment  \n",
       "0      neutral  \n",
       "1     positive  \n",
       "2     positive  \n",
       "3     positive  \n",
       "4     positive  \n",
       "...        ...  \n",
       "6535   neutral  \n",
       "6536  positive  \n",
       "6537  positive  \n",
       "6538  positive  \n",
       "6539  positive  \n",
       "\n",
       "[6540 rows x 8 columns]"
      ]
     },
     "execution_count": 20,
     "metadata": {},
     "output_type": "execute_result"
    }
   ],
   "source": [
    "all_nva=[]\n",
    "all_career=[]\n",
    "all_life=[]\n",
    "all_money=[]\n",
    "all_culture=[]\n",
    "all_manager=[]\n",
    "all_overall=[]\n",
    "for i in range(len(career_list)):\n",
    "    all_nva=all_nva+nva_word[i]\n",
    "    all_career=all_career+career_list[i]\n",
    "    all_life=all_life+life_list[i]\n",
    "    all_money=all_money+money_list[i]\n",
    "    all_culture=all_culture+culture_list[i]\n",
    "    all_manager=all_manager+manager_list[i]\n",
    "    all_overall=all_overall+overall_list[i]\n",
    "    \n",
    "dataframe_list=[all_nva, all_career, all_life, all_money, all_culture, all_manager, all_overall, sentiment_list]\n",
    "df_st=pd.DataFrame(dataframe_list)\n",
    "df_st=df_st.T\n",
    "df_st.columns=['NounVerbAdj','career','life','money','culture','manager','overall','sentiment']\n",
    "df_st"
   ]
  },
  {
   "cell_type": "code",
   "execution_count": null,
   "id": "6e07f992",
   "metadata": {
    "id": "6e07f992"
   },
   "outputs": [],
   "source": []
  },
  {
   "cell_type": "code",
   "execution_count": null,
   "id": "75fae3f8",
   "metadata": {
    "id": "75fae3f8"
   },
   "outputs": [],
   "source": []
  },
  {
   "cell_type": "code",
   "execution_count": 21,
   "id": "5d1436f5",
   "metadata": {
    "id": "5d1436f5"
   },
   "outputs": [],
   "source": [
    "path='/Volumes/GoogleDrive/내 드라이브/2021-2/커텍마/과제/Final Project/FINAL/'\n",
    "csv='.csv'\n",
    "\n",
    "company_list=['롯데정보통신','삼성SDS','신세계아이앤씨','티맥스소프트','포스코ICT','한국IBM','한글과컴퓨터','AhnLab','LGCNS','NCSOFT']\n",
    "\n",
    "review_list=[]\n",
    "career_list=[]\n",
    "life_list=[]\n",
    "money_list=[]\n",
    "culture_list=[]\n",
    "manager_list=[]\n",
    "overall_list=[]\n",
    "sentiment_list=[]\n",
    "\n",
    "for i in range(len(company_list)):\n",
    "    data=pd.read_csv(path+company_list[i]+csv, header=0, index_col=0)\n",
    "    data['overall']=np.mean(data,axis=1)\n",
    "    review_list.append(list(data.review))\n",
    "    career_list.append(list(data.career))\n",
    "    life_list.append(list(data.life))\n",
    "    money_list.append(list(data.money))\n",
    "    culture_list.append(list(data.culture))\n",
    "    manager_list.append(list(data.manager))\n",
    "    overall_list.append(list(data.overall))\n",
    "\n",
    "for i in range(len(company_list)):\n",
    "    for j in range(len(overall_list[i])):\n",
    "        if overall_list[i][j]>3.5:\n",
    "            sentiment_list.append('positive')\n",
    "        elif overall_list[i][j]<2.5:\n",
    "            sentiment_list.append('negative')\n",
    "        else: sentiment_list.append('neutral')"
   ]
  },
  {
   "cell_type": "code",
   "execution_count": 22,
   "id": "9596bffe",
   "metadata": {
    "id": "9596bffe"
   },
   "outputs": [],
   "source": [
    "for i in range(len(company_list)):\n",
    "    for j in range(len(review_list[i])):\n",
    "        review_list[i][j]=re.sub(r'[^\\s\\w\\d]',' ', review_list[i][j])"
   ]
  },
  {
   "cell_type": "code",
   "execution_count": 23,
   "id": "5f18f084",
   "metadata": {
    "id": "5f18f084",
    "outputId": "69374a9c-72fd-44dd-94bb-0110e16b51f3"
   },
   "outputs": [
    {
     "name": "stderr",
     "output_type": "stream",
     "text": [
      "/Users/ijaehwan/opt/anaconda3/lib/python3.8/site-packages/konlpy/tag/_okt.py:16: UserWarning: \"Twitter\" has changed to \"Okt\" since KoNLPy v0.4.5.\n",
      "  warn('\"Twitter\" has changed to \"Okt\" since KoNLPy v0.4.5.')\n"
     ]
    }
   ],
   "source": [
    "twitter=konlpy.tag.Twitter()\n",
    "nva_word=[[],[],[],[],[],[],[],[],[],[],[],[],[],[],[],[],[],[],[],[]]\n",
    "dummy_list=[]\n",
    "\n",
    "for i in range(len(company_list)):\n",
    "    for j in range(len(review_list[i])):\n",
    "        twitter_morphs=twitter.pos(review_list[i][j])\n",
    "        for word, pos in twitter_morphs:\n",
    "            if pos == 'Noun' or pos == 'Verb' or pos == 'Adjective':\n",
    "                dummy_list.append(word)\n",
    "        nva_word[i].append(dummy_list)\n",
    "        dummy_list=[]"
   ]
  },
  {
   "cell_type": "code",
   "execution_count": 24,
   "id": "a3bd32b6",
   "metadata": {
    "id": "a3bd32b6"
   },
   "outputs": [],
   "source": [
    "unique_nva=[]\n",
    "for i in range(len(nva_word)):\n",
    "    for j in range(len(nva_word[i])):\n",
    "        unique_nva.append(list(set(nva_word[i][j])))\n",
    "    \n",
    "uni_nva=[]\n",
    "for i in range(len(unique_nva)):\n",
    "    for j in range(len(unique_nva[i])):\n",
    "        uni_nva.append(unique_nva[i][j])\n",
    "        \n",
    "uni_nva=set(uni_nva)\n",
    "\n",
    "stopword=['회사','라벨','있는','하는', '게임']\n",
    "\n",
    "#전처리\n",
    "for i in range(len(nva_word)):\n",
    "    for j in range(len(nva_word[i])):\n",
    "        for word in uni_nva:\n",
    "            if len(word)<2:\n",
    "                while word in nva_word[i][j]: nva_word[i][j].remove(word)\n",
    "            if word in stopword:\n",
    "                while word in nva_word[i][j]: nva_word[i][j].remove(word)"
   ]
  },
  {
   "cell_type": "code",
   "execution_count": 25,
   "id": "ac1fbf15",
   "metadata": {
    "id": "ac1fbf15",
    "outputId": "121f9e8e-0daa-4b91-b1c9-e434ed6a45ad"
   },
   "outputs": [
    {
     "data": {
      "text/html": [
       "<div>\n",
       "<style scoped>\n",
       "    .dataframe tbody tr th:only-of-type {\n",
       "        vertical-align: middle;\n",
       "    }\n",
       "\n",
       "    .dataframe tbody tr th {\n",
       "        vertical-align: top;\n",
       "    }\n",
       "\n",
       "    .dataframe thead th {\n",
       "        text-align: right;\n",
       "    }\n",
       "</style>\n",
       "<table border=\"1\" class=\"dataframe\">\n",
       "  <thead>\n",
       "    <tr style=\"text-align: right;\">\n",
       "      <th></th>\n",
       "      <th>NounVerbAdj</th>\n",
       "      <th>career</th>\n",
       "      <th>life</th>\n",
       "      <th>money</th>\n",
       "      <th>culture</th>\n",
       "      <th>manager</th>\n",
       "      <th>overall</th>\n",
       "      <th>sentiment</th>\n",
       "    </tr>\n",
       "  </thead>\n",
       "  <tbody>\n",
       "    <tr>\n",
       "      <th>0</th>\n",
       "      <td>[직원, 그냥, 부품]</td>\n",
       "      <td>1</td>\n",
       "      <td>2</td>\n",
       "      <td>1</td>\n",
       "      <td>2</td>\n",
       "      <td>1</td>\n",
       "      <td>1.4</td>\n",
       "      <td>negative</td>\n",
       "    </tr>\n",
       "    <tr>\n",
       "      <th>1</th>\n",
       "      <td>[보장]</td>\n",
       "      <td>3</td>\n",
       "      <td>5</td>\n",
       "      <td>3</td>\n",
       "      <td>3</td>\n",
       "      <td>3</td>\n",
       "      <td>3.4</td>\n",
       "      <td>neutral</td>\n",
       "    </tr>\n",
       "    <tr>\n",
       "      <th>2</th>\n",
       "      <td>[나쁘지도, 좋지도, 않음]</td>\n",
       "      <td>2</td>\n",
       "      <td>4</td>\n",
       "      <td>3</td>\n",
       "      <td>3</td>\n",
       "      <td>3</td>\n",
       "      <td>3.0</td>\n",
       "      <td>neutral</td>\n",
       "    </tr>\n",
       "    <tr>\n",
       "      <th>3</th>\n",
       "      <td>[]</td>\n",
       "      <td>3</td>\n",
       "      <td>4</td>\n",
       "      <td>3</td>\n",
       "      <td>3</td>\n",
       "      <td>3</td>\n",
       "      <td>3.2</td>\n",
       "      <td>neutral</td>\n",
       "    </tr>\n",
       "    <tr>\n",
       "      <th>4</th>\n",
       "      <td>[복지, 문화, 개선, 되고]</td>\n",
       "      <td>2</td>\n",
       "      <td>4</td>\n",
       "      <td>2</td>\n",
       "      <td>3</td>\n",
       "      <td>2</td>\n",
       "      <td>2.6</td>\n",
       "      <td>neutral</td>\n",
       "    </tr>\n",
       "    <tr>\n",
       "      <th>...</th>\n",
       "      <td>...</td>\n",
       "      <td>...</td>\n",
       "      <td>...</td>\n",
       "      <td>...</td>\n",
       "      <td>...</td>\n",
       "      <td>...</td>\n",
       "      <td>...</td>\n",
       "      <td>...</td>\n",
       "    </tr>\n",
       "    <tr>\n",
       "      <th>5755</th>\n",
       "      <td>[다닐만]</td>\n",
       "      <td>3</td>\n",
       "      <td>3</td>\n",
       "      <td>4</td>\n",
       "      <td>3</td>\n",
       "      <td>3</td>\n",
       "      <td>3.2</td>\n",
       "      <td>neutral</td>\n",
       "    </tr>\n",
       "    <tr>\n",
       "      <th>5756</th>\n",
       "      <td>[팀바팀]</td>\n",
       "      <td>4</td>\n",
       "      <td>4</td>\n",
       "      <td>4</td>\n",
       "      <td>4</td>\n",
       "      <td>3</td>\n",
       "      <td>3.8</td>\n",
       "      <td>positive</td>\n",
       "    </tr>\n",
       "    <tr>\n",
       "      <th>5757</th>\n",
       "      <td>[개임, 특성, 단점, 빼면, 좋음]</td>\n",
       "      <td>3</td>\n",
       "      <td>5</td>\n",
       "      <td>5</td>\n",
       "      <td>4</td>\n",
       "      <td>4</td>\n",
       "      <td>4.2</td>\n",
       "      <td>positive</td>\n",
       "    </tr>\n",
       "    <tr>\n",
       "      <th>5758</th>\n",
       "      <td>[복지, 좋음]</td>\n",
       "      <td>2</td>\n",
       "      <td>3</td>\n",
       "      <td>4</td>\n",
       "      <td>2</td>\n",
       "      <td>1</td>\n",
       "      <td>2.4</td>\n",
       "      <td>negative</td>\n",
       "    </tr>\n",
       "    <tr>\n",
       "      <th>5759</th>\n",
       "      <td>[복지, 좋은]</td>\n",
       "      <td>3</td>\n",
       "      <td>3</td>\n",
       "      <td>4</td>\n",
       "      <td>3</td>\n",
       "      <td>2</td>\n",
       "      <td>3.0</td>\n",
       "      <td>neutral</td>\n",
       "    </tr>\n",
       "  </tbody>\n",
       "</table>\n",
       "<p>5760 rows × 8 columns</p>\n",
       "</div>"
      ],
      "text/plain": [
       "               NounVerbAdj career life money culture manager overall sentiment\n",
       "0             [직원, 그냥, 부품]      1    2     1       2       1     1.4  negative\n",
       "1                     [보장]      3    5     3       3       3     3.4   neutral\n",
       "2          [나쁘지도, 좋지도, 않음]      2    4     3       3       3     3.0   neutral\n",
       "3                       []      3    4     3       3       3     3.2   neutral\n",
       "4         [복지, 문화, 개선, 되고]      2    4     2       3       2     2.6   neutral\n",
       "...                    ...    ...  ...   ...     ...     ...     ...       ...\n",
       "5755                 [다닐만]      3    3     4       3       3     3.2   neutral\n",
       "5756                 [팀바팀]      4    4     4       4       3     3.8  positive\n",
       "5757  [개임, 특성, 단점, 빼면, 좋음]      3    5     5       4       4     4.2  positive\n",
       "5758              [복지, 좋음]      2    3     4       2       1     2.4  negative\n",
       "5759              [복지, 좋은]      3    3     4       3       2     3.0   neutral\n",
       "\n",
       "[5760 rows x 8 columns]"
      ]
     },
     "execution_count": 25,
     "metadata": {},
     "output_type": "execute_result"
    }
   ],
   "source": [
    "all_nva=[]\n",
    "all_career=[]\n",
    "all_life=[]\n",
    "all_money=[]\n",
    "all_culture=[]\n",
    "all_manager=[]\n",
    "all_overall=[]\n",
    "for i in range(len(career_list)):\n",
    "    all_nva=all_nva+nva_word[i]\n",
    "    all_career=all_career+career_list[i]\n",
    "    all_life=all_life+life_list[i]\n",
    "    all_money=all_money+money_list[i]\n",
    "    all_culture=all_culture+culture_list[i]\n",
    "    all_manager=all_manager+manager_list[i]\n",
    "    all_overall=all_overall+overall_list[i]\n",
    "    \n",
    "dataframe_list=[all_nva, all_career, all_life, all_money, all_culture, all_manager, all_overall, sentiment_list]\n",
    "df_no=pd.DataFrame(dataframe_list)\n",
    "df_no=df_no.T\n",
    "df_no.columns=['NounVerbAdj','career','life','money','culture','manager','overall','sentiment']\n",
    "df_no"
   ]
  },
  {
   "cell_type": "code",
   "execution_count": null,
   "id": "3191156f",
   "metadata": {
    "id": "3191156f"
   },
   "outputs": [],
   "source": []
  },
  {
   "cell_type": "code",
   "execution_count": 26,
   "id": "4830099e",
   "metadata": {
    "id": "4830099e"
   },
   "outputs": [],
   "source": [
    "def build_doc_word_matrix(docs):\n",
    "    dictionary = corpora.Dictionary(docs)\n",
    "    corpus = []\n",
    "    for doc in docs:\n",
    "        bow = dictionary.doc2bow(doc)\n",
    "        corpus.append(bow)\n",
    "\n",
    "    return corpus, dictionary\n",
    "\n",
    "corpus_st, dictionary_st = build_doc_word_matrix(df_st.iloc[:,0])\n",
    "corpus_no, dictionary_no = build_doc_word_matrix(df_no.iloc[:,0])"
   ]
  },
  {
   "cell_type": "code",
   "execution_count": 27,
   "id": "bf3b85c9",
   "metadata": {
    "id": "bf3b85c9",
    "outputId": "0f7e2042-716c-48d1-c29d-00ae5aa02573"
   },
   "outputs": [
    {
     "name": "stdout",
     "output_type": "stream",
     "text": [
      "Number of unique tokens: 4100\n",
      "Number of documents: 6540\n"
     ]
    }
   ],
   "source": [
    "print('Number of unique tokens: %d' % len(dictionary_st))\n",
    "print('Number of documents: %d' % len(corpus_st))"
   ]
  },
  {
   "cell_type": "code",
   "execution_count": 28,
   "id": "8b24a94f",
   "metadata": {
    "id": "8b24a94f",
    "outputId": "4946acce-a440-402d-b86a-21c52d958479"
   },
   "outputs": [
    {
     "name": "stdout",
     "output_type": "stream",
     "text": [
      "Number of unique tokens: 3783\n",
      "Number of documents: 5760\n"
     ]
    }
   ],
   "source": [
    "print('Number of unique tokens: %d' % len(dictionary_no))\n",
    "print('Number of documents: %d' % len(corpus_no))"
   ]
  },
  {
   "cell_type": "code",
   "execution_count": 30,
   "id": "3e043318",
   "metadata": {
    "id": "3e043318"
   },
   "outputs": [],
   "source": [
    "def print_topic_words(model):\n",
    "    f = open('topic_results_test.txt','w')\n",
    "    for topic_id in range(model.num_topics):\n",
    "        word_probs = model.show_topic(topic_id, 2)\n",
    "        print(\"Topic ID: {}\".format(topic_id))\n",
    "        f.write(str(topic_id)+'\\n')\n",
    "        for word, prob in word_probs:\n",
    "            print(\"\\t{}\\t{}\".format(word, prob))\n",
    "            f.write(str(word)+'\\t'+str(prob)+'\\n')\n",
    "        print(\"\\n\")\n",
    "    f.close()"
   ]
  },
  {
   "cell_type": "code",
   "execution_count": 83,
   "id": "3b21736b",
   "metadata": {
    "id": "3b21736b"
   },
   "outputs": [],
   "source": [
    "lda_model_st_5 = models.ldamodel.LdaModel(corpus_st, num_topics=5, id2word=dictionary_st)"
   ]
  },
  {
   "cell_type": "code",
   "execution_count": null,
   "id": "014edaff",
   "metadata": {},
   "outputs": [],
   "source": [
    "#토픽모델링 (3)"
   ]
  },
  {
   "cell_type": "code",
   "execution_count": 84,
   "id": "ee0121be",
   "metadata": {
    "id": "ee0121be",
    "outputId": "ead1be92-b8cd-4334-b7fc-7c9912187ef5"
   },
   "outputs": [
    {
     "name": "stdout",
     "output_type": "stream",
     "text": [
      "Topic ID: 0\n",
      "\t최고\t0.05062636360526085\n",
      "\t사람\t0.030007600784301758\n",
      "\n",
      "\n",
      "Topic ID: 1\n",
      "\t개발자\t0.044535402208566666\n",
      "\t좋음\t0.030492698773741722\n",
      "\n",
      "\n",
      "Topic ID: 2\n",
      "\t보장\t0.0807376280426979\n",
      "\t되는\t0.07561276108026505\n",
      "\n",
      "\n",
      "Topic ID: 3\n",
      "\t커리어\t0.03205724433064461\n",
      "\t좋은\t0.031654007732868195\n",
      "\n",
      "\n",
      "Topic ID: 4\n",
      "\t좋은\t0.16877630352973938\n",
      "\t복지\t0.024086255580186844\n",
      "\n",
      "\n"
     ]
    }
   ],
   "source": [
    "print_topic_words(lda_model_st_5)"
   ]
  },
  {
   "cell_type": "code",
   "execution_count": 91,
   "id": "88403f6c",
   "metadata": {
    "id": "88403f6c"
   },
   "outputs": [],
   "source": [
    "lda_model_no_5 = models.ldamodel.LdaModel(corpus_no, num_topics=5, id2word=dictionary_no)"
   ]
  },
  {
   "cell_type": "code",
   "execution_count": 92,
   "id": "074c6808",
   "metadata": {
    "id": "074c6808",
    "outputId": "ee7d167a-0fa7-4324-c597-125678d6093b"
   },
   "outputs": [
    {
     "name": "stdout",
     "output_type": "stream",
     "text": [
      "Topic ID: 0\n",
      "\t되는\t0.04201112315058708\n",
      "\t보장\t0.04048050940036774\n",
      "\n",
      "\n",
      "Topic ID: 1\n",
      "\t없는\t0.028205877169966698\n",
      "\t괜찮은\t0.024780863896012306\n",
      "\n",
      "\n",
      "Topic ID: 2\n",
      "\t보장\t0.036393944174051285\n",
      "\t사람\t0.02051147073507309\n",
      "\n",
      "\n",
      "Topic ID: 3\n",
      "\t좋은\t0.10515979677438736\n",
      "\t복지\t0.03311843052506447\n",
      "\n",
      "\n",
      "Topic ID: 4\n",
      "\t부바\t0.02311534248292446\n",
      "\t영진\t0.017132069915533066\n",
      "\n",
      "\n"
     ]
    }
   ],
   "source": [
    "print_topic_words(lda_model_no_5)"
   ]
  },
  {
   "cell_type": "code",
   "execution_count": 61,
   "id": "0d34d559",
   "metadata": {
    "id": "0d34d559"
   },
   "outputs": [],
   "source": [
    "lda_model_st_2 = models.ldamodel.LdaModel(corpus_st, num_topics=2, id2word=dictionary_st)"
   ]
  },
  {
   "cell_type": "code",
   "execution_count": null,
   "id": "11db6ac7",
   "metadata": {},
   "outputs": [],
   "source": [
    "#토픽모델링 (4)"
   ]
  },
  {
   "cell_type": "code",
   "execution_count": 62,
   "id": "a52fb632",
   "metadata": {
    "id": "a52fb632",
    "outputId": "69a49cb1-a1cb-459f-832e-e14c548f4538"
   },
   "outputs": [
    {
     "name": "stdout",
     "output_type": "stream",
     "text": [
      "Topic ID: 0\n",
      "\t좋은\t0.07273721694946289\n",
      "\t보장\t0.032387785613536835\n",
      "\n",
      "\n",
      "Topic ID: 1\n",
      "\t커리어\t0.020628221333026886\n",
      "\t좋음\t0.018232349306344986\n",
      "\n",
      "\n"
     ]
    }
   ],
   "source": [
    "print_topic_words(lda_model_st_2)"
   ]
  },
  {
   "cell_type": "code",
   "execution_count": 49,
   "id": "f5fff796",
   "metadata": {
    "id": "f5fff796"
   },
   "outputs": [],
   "source": [
    "lda_model_no_2 = models.ldamodel.LdaModel(corpus_no, num_topics=2, id2word=dictionary_no)"
   ]
  },
  {
   "cell_type": "code",
   "execution_count": 50,
   "id": "11bfd896",
   "metadata": {
    "id": "11bfd896",
    "outputId": "092c1e7b-f956-46d7-be9a-67f4c8b54ed0"
   },
   "outputs": [
    {
     "name": "stdout",
     "output_type": "stream",
     "text": [
      "Topic ID: 0\n",
      "\t되는\t0.02101909928023815\n",
      "\t보장\t0.020871419459581375\n",
      "\n",
      "\n",
      "Topic ID: 1\n",
      "\t좋은\t0.05488498881459236\n",
      "\t복지\t0.022298818454146385\n",
      "\n",
      "\n"
     ]
    }
   ],
   "source": [
    "print_topic_words(lda_model_no_2)"
   ]
  },
  {
   "cell_type": "code",
   "execution_count": null,
   "id": "c3491b80",
   "metadata": {},
   "outputs": [],
   "source": [
    "#감성분석 (3)"
   ]
  },
  {
   "cell_type": "code",
   "execution_count": 95,
   "id": "35309d6e",
   "metadata": {
    "id": "35309d6e"
   },
   "outputs": [
    {
     "data": {
      "text/plain": [
       "3334"
      ]
     },
     "execution_count": 95,
     "metadata": {},
     "output_type": "execute_result"
    }
   ],
   "source": [
    "len(df_st[df_st['sentiment']== 'positive'])"
   ]
  },
  {
   "cell_type": "code",
   "execution_count": 97,
   "id": "47b84726",
   "metadata": {},
   "outputs": [
    {
     "data": {
      "text/plain": [
       "6540"
      ]
     },
     "execution_count": 97,
     "metadata": {},
     "output_type": "execute_result"
    }
   ],
   "source": [
    "len(df_st)"
   ]
  },
  {
   "cell_type": "code",
   "execution_count": 96,
   "id": "d32df6f2",
   "metadata": {},
   "outputs": [
    {
     "data": {
      "text/plain": [
       "1280"
      ]
     },
     "execution_count": 96,
     "metadata": {},
     "output_type": "execute_result"
    }
   ],
   "source": [
    "len(df_no[df_no['sentiment']== 'positive'])"
   ]
  },
  {
   "cell_type": "code",
   "execution_count": 98,
   "id": "ceefe620",
   "metadata": {},
   "outputs": [
    {
     "data": {
      "text/plain": [
       "5760"
      ]
     },
     "execution_count": 98,
     "metadata": {},
     "output_type": "execute_result"
    }
   ],
   "source": [
    "len(df_no)"
   ]
  }
 ],
 "metadata": {
  "colab": {
   "name": "Comparing.ipynb",
   "provenance": []
  },
  "kernelspec": {
   "display_name": "Python 3",
   "language": "python",
   "name": "python3"
  },
  "language_info": {
   "codemirror_mode": {
    "name": "ipython",
    "version": 3
   },
   "file_extension": ".py",
   "mimetype": "text/x-python",
   "name": "python",
   "nbconvert_exporter": "python",
   "pygments_lexer": "ipython3",
   "version": "3.8.8"
  }
 },
 "nbformat": 4,
 "nbformat_minor": 5
}
