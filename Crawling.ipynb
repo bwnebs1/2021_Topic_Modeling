{
 "cells": [
  {
   "cell_type": "code",
   "execution_count": 2,
   "id": "48c5e9d9",
   "metadata": {},
   "outputs": [],
   "source": [
    "from selenium import webdriver\n",
    "from bs4 import BeautifulSoup\n",
    "import numpy as np\n",
    "import pandas as pd"
   ]
  },
  {
   "cell_type": "code",
   "execution_count": null,
   "id": "59fb3d08",
   "metadata": {},
   "outputs": [
    {
     "name": "stderr",
     "output_type": "stream",
     "text": [
      "<ipython-input-3-d222d12e1c93>:10: DeprecationWarning: executable_path has been deprecated, please pass in a Service object\n",
      "  driver = webdriver.Chrome('/Users/ijaehwan/Downloads/chromedriver 2', options=webdriver_options)\n"
     ]
    }
   ],
   "source": [
    "html_list = []\n",
    "\n",
    "webdriver_options = webdriver.ChromeOptions()\n",
    "webdriver_options.add_argument('--window-size=5,5')\n",
    "\n",
    "company='비바리퍼블리카'\n",
    "n=41\n",
    "\n",
    "for i in range(1,13):\n",
    "    driver = webdriver.Chrome('/Users/ijaehwan/Downloads/chromedriver 2', options=webdriver_options)\n",
    "    url = 'https://www.teamblind.com/kr/company/'+company+'/reviews?page=%d'%i\n",
    "    driver.get(url)\n",
    "    html=driver.page_source\n",
    "    html_list.append(html)\n",
    "    driver.close()"
   ]
  },
  {
   "cell_type": "code",
   "execution_count": 297,
   "id": "bf906b80",
   "metadata": {},
   "outputs": [
    {
     "name": "stderr",
     "output_type": "stream",
     "text": [
      "<ipython-input-297-fba4753c4cc1>:2: DeprecationWarning: executable_path has been deprecated, please pass in a Service object\n",
      "  driver = webdriver.Chrome('/Users/ijaehwan/Downloads/chromedriver 2', options=webdriver_options)\n"
     ]
    }
   ],
   "source": [
    "for i in range(16,31):\n",
    "    driver = webdriver.Chrome('/Users/ijaehwan/Downloads/chromedriver 2', options=webdriver_options)\n",
    "    url = 'https://www.teamblind.com/kr/company/'+company+'/reviews?page=%d'%i\n",
    "    driver.get(url)\n",
    "    html=driver.page_source\n",
    "    html_list.append(html)\n",
    "    driver.close()"
   ]
  },
  {
   "cell_type": "code",
   "execution_count": 298,
   "id": "ebabb4f8",
   "metadata": {},
   "outputs": [
    {
     "name": "stderr",
     "output_type": "stream",
     "text": [
      "<ipython-input-298-74708b70d068>:2: DeprecationWarning: executable_path has been deprecated, please pass in a Service object\n",
      "  driver = webdriver.Chrome('/Users/ijaehwan/Downloads/chromedriver 2', options=webdriver_options)\n"
     ]
    }
   ],
   "source": [
    "for i in range(31,n+1):\n",
    "    driver = webdriver.Chrome('/Users/ijaehwan/Downloads/chromedriver 2', options=webdriver_options)\n",
    "    url = 'https://www.teamblind.com/kr/company/'+company+'/reviews?page=%d'%i\n",
    "    driver.get(url)\n",
    "    html=driver.page_source\n",
    "    html_list.append(html)\n",
    "    driver.close()"
   ]
  },
  {
   "cell_type": "code",
   "execution_count": null,
   "id": "1c3a7109",
   "metadata": {},
   "outputs": [],
   "source": [
    "for i in range(46,61):\n",
    "    driver = webdriver.Chrome('/Users/ijaehwan/Downloads/chromedriver 2', options=webdriver_options)\n",
    "    url = 'https://www.teamblind.com/kr/company/'+company+'/reviews?page=%d'%i\n",
    "    driver.get(url)\n",
    "    html=driver.page_source\n",
    "    html_list.append(html)\n",
    "    driver.close()"
   ]
  },
  {
   "cell_type": "code",
   "execution_count": null,
   "id": "bde3f505",
   "metadata": {},
   "outputs": [],
   "source": [
    "career=[]\n",
    "life=[]\n",
    "money=[]\n",
    "culture=[]\n",
    "manager=[]\n",
    "\n",
    "soup=BeautifulSoup(html_list[0], 'lxml')\n",
    "soup=soup.find_all('i',attrs={'class':'blind'})\n",
    "career.append(soup[13])\n",
    "life.append(soup[14])\n",
    "money.append(soup[15])\n",
    "culture.append(soup[16])\n",
    "manager.append(soup[17])\n",
    "\n",
    "for i in range(29):\n",
    "    career.append(soup[25+8*i])\n",
    "    life.append(soup[26+8*i])\n",
    "    money.append(soup[27+8*i])\n",
    "    culture.append(soup[28+8*i])\n",
    "    manager.append(soup[29+8*i])\n",
    "    \n",
    "for i in range(1,len(html_list)-1):\n",
    "    soup=BeautifulSoup(html_list[i],'lxml')\n",
    "    soup=soup.find_all('i',attrs={'class':'blind'})\n",
    "    for j in range(1,31):\n",
    "        career.append(soup[8*j+4])\n",
    "        life.append(soup[8*j+5])\n",
    "        money.append(soup[8*j+6])\n",
    "        culture.append(soup[8*j+7])\n",
    "        manager.append(soup[8*j+8])\n",
    "        \n",
    "comment_list=[]\n",
    "for i in range(len(html_list)):\n",
    "    soup=BeautifulSoup(html_list[i], 'lxml')\n",
    "    soup=soup.find_all('h3')\n",
    "    soup.pop()\n",
    "    comment_list.append(soup)\n",
    "        \n",
    "com_list=[]\n",
    "for i in range(len(comment_list)-1):\n",
    "    for j in range(len(comment_list[i])):\n",
    "        com_list.append(comment_list[i][j].text)\n",
    "    \n",
    "data={'review':com_list,\n",
    "     'career':career,\n",
    "     'life':life,\n",
    "     'money':money,\n",
    "     'culture':culture,\n",
    "     'manager':manager}\n",
    "dataframe=pd.DataFrame(data)"
   ]
  },
  {
   "cell_type": "code",
   "execution_count": null,
   "id": "1809a183",
   "metadata": {},
   "outputs": [],
   "source": [
    "for i in range(len(dataframe['review'])):\n",
    "    dataframe['career'][i]=dataframe['career'][i].text\n",
    "    dataframe['life'][i]=dataframe['life'][i].text\n",
    "    dataframe['money'][i]=dataframe['money'][i].text\n",
    "    dataframe['culture'][i]=dataframe['culture'][i].text\n",
    "    dataframe['manager'][i]=dataframe['manager'][i].text\n",
    "\n",
    "for i in range(len(dataframe['career'])):\n",
    "    if dataframe['career'][i]=='1' or dataframe['career'][i]=='2' or dataframe['career'][i]=='3' or dataframe['career'][i]=='4' or dataframe['career'][i]=='5':\n",
    "        continue\n",
    "    else:\n",
    "        dataframe['career'][i]=np.nan\n",
    "\n",
    "dataframe.dropna()\n",
    "\n",
    "dataframe.to_csv(company+'.csv')"
   ]
  },
  {
   "cell_type": "code",
   "execution_count": null,
   "id": "26ca3c14",
   "metadata": {},
   "outputs": [],
   "source": [
    "dataframe"
   ]
  },
  {
   "cell_type": "code",
   "execution_count": null,
   "id": "afdbdd74",
   "metadata": {},
   "outputs": [],
   "source": []
  }
 ],
 "metadata": {
  "kernelspec": {
   "display_name": "Python 3",
   "language": "python",
   "name": "python3"
  },
  "language_info": {
   "codemirror_mode": {
    "name": "ipython",
    "version": 3
   },
   "file_extension": ".py",
   "mimetype": "text/x-python",
   "name": "python",
   "nbconvert_exporter": "python",
   "pygments_lexer": "ipython3",
   "version": "3.8.8"
  }
 },
 "nbformat": 4,
 "nbformat_minor": 5
}
