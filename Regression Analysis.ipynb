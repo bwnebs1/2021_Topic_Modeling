{
 "cells": [
  {
   "cell_type": "code",
   "execution_count": null,
   "metadata": {
    "id": "p__MLF_eDm76"
   },
   "outputs": [],
   "source": []
  },
  {
   "cell_type": "markdown",
   "metadata": {
    "id": "FGyKGQefFyzS"
   },
   "source": []
  },
  {
   "cell_type": "code",
   "execution_count": 1,
   "metadata": {
    "colab": {
     "base_uri": "https://localhost:8080/"
    },
    "id": "RrVJZRJ-EqI2",
    "outputId": "04d0fcdb-e113-4628-faeb-18c334d51cd7"
   },
   "outputs": [
    {
     "name": "stdout",
     "output_type": "stream",
     "text": [
      "Drive already mounted at /content/drive; to attempt to forcibly remount, call drive.mount(\"/content/drive\", force_remount=True).\n"
     ]
    }
   ],
   "source": [
    "#to use colab\n",
    "from google.colab import drive\n",
    "drive.mount('/content/drive')"
   ]
  },
  {
   "cell_type": "code",
   "execution_count": 2,
   "metadata": {
    "id": "Aj0NlsTVzq-o"
   },
   "outputs": [],
   "source": [
    "#importing modules\n",
    "import numpy as np\n",
    "import pandas as pd\n",
    "from sklearn.model_selection import train_test_split\n",
    "from sklearn.linear_model import LinearRegression\n",
    "\n",
    "%matplotlib inline\n",
    "import pylab #draw figures"
   ]
  },
  {
   "cell_type": "code",
   "execution_count": 4,
   "metadata": {
    "id": "4ri78rnf8Iip"
   },
   "outputs": [],
   "source": [
    "#getting file directories\n",
    "csv_list = [\"/content/drive/MyDrive/final커텍마/기업지표/기업지표-네이버.csv\",\n",
    "            \"/content/drive/MyDrive/final커텍마/기업지표/기업지표-LG CNS.csv\",\n",
    "            \"/content/drive/MyDrive/final커텍마/기업지표/기업지표-당근마켓.csv\",\n",
    "            \"/content/drive/MyDrive/final커텍마/기업지표/기업지표-라인플러스.csv\",\n",
    "            \"/content/drive/MyDrive/final커텍마/기업지표/기업지표-롯데정보통신.csv\",\n",
    "            \"/content/drive/MyDrive/final커텍마/기업지표/기업지표-무신사.csv\",\n",
    "            \"/content/drive/MyDrive/final커텍마/기업지표/기업지표-비바리퍼블리카.csv\",\n",
    "            \"/content/drive/MyDrive/final커텍마/기업지표/기업지표-삼성SDS.csv\",\n",
    "            \"/content/drive/MyDrive/final커텍마/기업지표/기업지표-신세계아이앤씨.csv\",\n",
    "            \"/content/drive/MyDrive/final커텍마/기업지표/기업지표-안랩.csv\",\n",
    "            \"/content/drive/MyDrive/final커텍마/기업지표/기업지표-엔씨소프트.csv\",\n",
    "            \"/content/drive/MyDrive/final커텍마/기업지표/기업지표-우아한형제들.csv\",\n",
    "            \"/content/drive/MyDrive/final커텍마/기업지표/기업지표-카카오.csv\",\n",
    "            \"/content/drive/MyDrive/final커텍마/기업지표/기업지표-쿠팡.csv\",\n",
    "            \"/content/drive/MyDrive/final커텍마/기업지표/기업지표-크래프톤.csv\",\n",
    "            \"/content/drive/MyDrive/final커텍마/기업지표/기업지표-티맥스소프트.csv\",\n",
    "            \"/content/drive/MyDrive/final커텍마/기업지표/기업지표-포스코ICT.csv\",\n",
    "            \"/content/drive/MyDrive/final커텍마/기업지표/기업지표-하이퍼커넥트.csv\",\n",
    "            \"/content/drive/MyDrive/final커텍마/기업지표/기업지표-한국IBM.csv\",\n",
    "            \"/content/drive/MyDrive/final커텍마/기업지표/기업지표-한글과컴퓨터.csv\"\n",
    "            ]\n"
   ]
  },
  {
   "cell_type": "code",
   "execution_count": 5,
   "metadata": {
    "id": "tN9V8DKW2Hv1"
   },
   "outputs": [],
   "source": [
    "#examining test dataset \n",
    "test = pd.read_csv(\"/content/drive/MyDrive/final커텍마/기업지표/기업지표-네이버.csv\")"
   ]
  },
  {
   "cell_type": "code",
   "execution_count": 6,
   "metadata": {
    "colab": {
     "base_uri": "https://localhost:8080/",
     "height": 802
    },
    "id": "kyg1mx3e2cUz",
    "outputId": "3392533a-05cc-4ce3-b433-9d7c41afcbda"
   },
   "outputs": [
    {
     "data": {
      "text/html": [
       "<div>\n",
       "<style scoped>\n",
       "    .dataframe tbody tr th:only-of-type {\n",
       "        vertical-align: middle;\n",
       "    }\n",
       "\n",
       "    .dataframe tbody tr th {\n",
       "        vertical-align: top;\n",
       "    }\n",
       "\n",
       "    .dataframe thead th {\n",
       "        text-align: right;\n",
       "    }\n",
       "</style>\n",
       "<table border=\"1\" class=\"dataframe\">\n",
       "  <thead>\n",
       "    <tr style=\"text-align: right;\">\n",
       "      <th></th>\n",
       "      <th>네이버</th>\n",
       "      <th>2016</th>\n",
       "      <th>2017</th>\n",
       "      <th>2018</th>\n",
       "      <th>2019</th>\n",
       "      <th>2020</th>\n",
       "      <th>2021</th>\n",
       "      <th>2022</th>\n",
       "      <th>2023</th>\n",
       "      <th>Unnamed: 9</th>\n",
       "    </tr>\n",
       "  </thead>\n",
       "  <tbody>\n",
       "    <tr>\n",
       "      <th>0</th>\n",
       "      <td>매출액</td>\n",
       "      <td>40,226</td>\n",
       "      <td>46,785</td>\n",
       "      <td>55,869</td>\n",
       "      <td>43,562</td>\n",
       "      <td>53,041</td>\n",
       "      <td>67,882</td>\n",
       "      <td>83,014</td>\n",
       "      <td>98,303</td>\n",
       "      <td>*억</td>\n",
       "    </tr>\n",
       "    <tr>\n",
       "      <th>1</th>\n",
       "      <td>영업이익</td>\n",
       "      <td>11,020</td>\n",
       "      <td>11,792</td>\n",
       "      <td>9,425</td>\n",
       "      <td>11,550</td>\n",
       "      <td>12,153</td>\n",
       "      <td>13,652</td>\n",
       "      <td>17,552</td>\n",
       "      <td>22,081</td>\n",
       "      <td>NaN</td>\n",
       "    </tr>\n",
       "    <tr>\n",
       "      <th>2</th>\n",
       "      <td>당기순이익</td>\n",
       "      <td>7,591</td>\n",
       "      <td>7,701</td>\n",
       "      <td>6,279</td>\n",
       "      <td>3,968</td>\n",
       "      <td>8,450</td>\n",
       "      <td>165,754</td>\n",
       "      <td>18,201</td>\n",
       "      <td>21,716</td>\n",
       "      <td>NaN</td>\n",
       "    </tr>\n",
       "    <tr>\n",
       "      <th>3</th>\n",
       "      <td>영업이익률</td>\n",
       "      <td>27.4</td>\n",
       "      <td>25.2</td>\n",
       "      <td>16.87</td>\n",
       "      <td>26.51</td>\n",
       "      <td>22.91</td>\n",
       "      <td>20.11</td>\n",
       "      <td>21.14</td>\n",
       "      <td>22.46</td>\n",
       "      <td>NaN</td>\n",
       "    </tr>\n",
       "    <tr>\n",
       "      <th>4</th>\n",
       "      <td>순이익률</td>\n",
       "      <td>18.87</td>\n",
       "      <td>16.46</td>\n",
       "      <td>11.24</td>\n",
       "      <td>9.11</td>\n",
       "      <td>15.93</td>\n",
       "      <td>244.18</td>\n",
       "      <td>21.93</td>\n",
       "      <td>22.09</td>\n",
       "      <td>NaN</td>\n",
       "    </tr>\n",
       "    <tr>\n",
       "      <th>5</th>\n",
       "      <td>ROE(%)</td>\n",
       "      <td>26.2</td>\n",
       "      <td>18.5</td>\n",
       "      <td>12.97</td>\n",
       "      <td>10.56</td>\n",
       "      <td>15.21</td>\n",
       "      <td>106.66</td>\n",
       "      <td>7.53</td>\n",
       "      <td>8.37</td>\n",
       "      <td>NaN</td>\n",
       "    </tr>\n",
       "    <tr>\n",
       "      <th>6</th>\n",
       "      <td>ROA(%)</td>\n",
       "      <td>14.11</td>\n",
       "      <td>10.7</td>\n",
       "      <td>7.02</td>\n",
       "      <td>3.58</td>\n",
       "      <td>5.76</td>\n",
       "      <td>65.83</td>\n",
       "      <td>5.28</td>\n",
       "      <td>5.85</td>\n",
       "      <td>NaN</td>\n",
       "    </tr>\n",
       "    <tr>\n",
       "      <th>7</th>\n",
       "      <td>자산총계</td>\n",
       "      <td>63,706</td>\n",
       "      <td>80,193</td>\n",
       "      <td>98,812</td>\n",
       "      <td>122,995</td>\n",
       "      <td>170,142</td>\n",
       "      <td>333,451</td>\n",
       "      <td>355,944</td>\n",
       "      <td>386,051</td>\n",
       "      <td>NaN</td>\n",
       "    </tr>\n",
       "    <tr>\n",
       "      <th>8</th>\n",
       "      <td>자본총계</td>\n",
       "      <td>41,296</td>\n",
       "      <td>53,052</td>\n",
       "      <td>59,491</td>\n",
       "      <td>65,039</td>\n",
       "      <td>82,551</td>\n",
       "      <td>245,001</td>\n",
       "      <td>261,927</td>\n",
       "      <td>283,907</td>\n",
       "      <td>NaN</td>\n",
       "    </tr>\n",
       "    <tr>\n",
       "      <th>9</th>\n",
       "      <td>부채총계</td>\n",
       "      <td>22,410</td>\n",
       "      <td>27,141</td>\n",
       "      <td>39,320</td>\n",
       "      <td>57,956</td>\n",
       "      <td>87,591</td>\n",
       "      <td>88,450</td>\n",
       "      <td>94,017</td>\n",
       "      <td>102,144</td>\n",
       "      <td>NaN</td>\n",
       "    </tr>\n",
       "    <tr>\n",
       "      <th>10</th>\n",
       "      <td>매출액증가율</td>\n",
       "      <td>NaN</td>\n",
       "      <td>16.3</td>\n",
       "      <td>19.42</td>\n",
       "      <td>-22.03</td>\n",
       "      <td>21.76</td>\n",
       "      <td>27.98</td>\n",
       "      <td>NaN</td>\n",
       "      <td>NaN</td>\n",
       "      <td>NaN</td>\n",
       "    </tr>\n",
       "    <tr>\n",
       "      <th>11</th>\n",
       "      <td>영업이익증가율</td>\n",
       "      <td>NaN</td>\n",
       "      <td>7</td>\n",
       "      <td>-20.07</td>\n",
       "      <td>22.55</td>\n",
       "      <td>5.22</td>\n",
       "      <td>12.33</td>\n",
       "      <td>NaN</td>\n",
       "      <td>NaN</td>\n",
       "      <td>NaN</td>\n",
       "    </tr>\n",
       "    <tr>\n",
       "      <th>12</th>\n",
       "      <td>순이익증가율</td>\n",
       "      <td>NaN</td>\n",
       "      <td>1.45</td>\n",
       "      <td>-18.46</td>\n",
       "      <td>-36.8</td>\n",
       "      <td>112.94</td>\n",
       "      <td>1,861.59</td>\n",
       "      <td>NaN</td>\n",
       "      <td>NaN</td>\n",
       "      <td>NaN</td>\n",
       "    </tr>\n",
       "    <tr>\n",
       "      <th>13</th>\n",
       "      <td>총자산증가율</td>\n",
       "      <td>NaN</td>\n",
       "      <td>25.88</td>\n",
       "      <td>23.22</td>\n",
       "      <td>24.47</td>\n",
       "      <td>38.33</td>\n",
       "      <td>95.98</td>\n",
       "      <td>NaN</td>\n",
       "      <td>NaN</td>\n",
       "      <td>NaN</td>\n",
       "    </tr>\n",
       "    <tr>\n",
       "      <th>14</th>\n",
       "      <td>EPS</td>\n",
       "      <td>4,546</td>\n",
       "      <td>4,689</td>\n",
       "      <td>3,937</td>\n",
       "      <td>3,538</td>\n",
       "      <td>6,097</td>\n",
       "      <td>100,977</td>\n",
       "      <td>11,288</td>\n",
       "      <td>13,533</td>\n",
       "      <td>NaN</td>\n",
       "    </tr>\n",
       "    <tr>\n",
       "      <th>15</th>\n",
       "      <td>BPS</td>\n",
       "      <td>24,957</td>\n",
       "      <td>32,429</td>\n",
       "      <td>35,847</td>\n",
       "      <td>39,913</td>\n",
       "      <td>49,961</td>\n",
       "      <td>159,097</td>\n",
       "      <td>170,861</td>\n",
       "      <td>185,206</td>\n",
       "      <td>NaN</td>\n",
       "    </tr>\n",
       "    <tr>\n",
       "      <th>16</th>\n",
       "      <td>SPS</td>\n",
       "      <td>NaN</td>\n",
       "      <td>28,386</td>\n",
       "      <td>33,898</td>\n",
       "      <td>26,431</td>\n",
       "      <td>32,274</td>\n",
       "      <td>41,325</td>\n",
       "      <td>NaN</td>\n",
       "      <td>NaN</td>\n",
       "      <td>NaN</td>\n",
       "    </tr>\n",
       "    <tr>\n",
       "      <th>17</th>\n",
       "      <td>PER</td>\n",
       "      <td>34.09</td>\n",
       "      <td>37.1</td>\n",
       "      <td>30.99</td>\n",
       "      <td>52.72</td>\n",
       "      <td>47.97</td>\n",
       "      <td>4.07</td>\n",
       "      <td>36.37</td>\n",
       "      <td>30.33</td>\n",
       "      <td>NaN</td>\n",
       "    </tr>\n",
       "    <tr>\n",
       "      <th>18</th>\n",
       "      <td>PBR</td>\n",
       "      <td>6.21</td>\n",
       "      <td>5.37</td>\n",
       "      <td>3.4</td>\n",
       "      <td>4.67</td>\n",
       "      <td>5.85</td>\n",
       "      <td>2.58</td>\n",
       "      <td>2.4</td>\n",
       "      <td>2.22</td>\n",
       "      <td>NaN</td>\n",
       "    </tr>\n",
       "    <tr>\n",
       "      <th>19</th>\n",
       "      <td>PSR</td>\n",
       "      <td>NaN</td>\n",
       "      <td>6.13</td>\n",
       "      <td>3.6</td>\n",
       "      <td>7.06</td>\n",
       "      <td>9.06</td>\n",
       "      <td>9.96</td>\n",
       "      <td>NaN</td>\n",
       "      <td>NaN</td>\n",
       "      <td>NaN</td>\n",
       "    </tr>\n",
       "    <tr>\n",
       "      <th>20</th>\n",
       "      <td>EV/EBITDA</td>\n",
       "      <td>NaN</td>\n",
       "      <td>18.4</td>\n",
       "      <td>14.34</td>\n",
       "      <td>17.38</td>\n",
       "      <td>26.97</td>\n",
       "      <td>33.97</td>\n",
       "      <td>NaN</td>\n",
       "      <td>NaN</td>\n",
       "      <td>NaN</td>\n",
       "    </tr>\n",
       "    <tr>\n",
       "      <th>21</th>\n",
       "      <td>직원 현황</td>\n",
       "      <td>2,693</td>\n",
       "      <td>2,793</td>\n",
       "      <td>3,585</td>\n",
       "      <td>3,492</td>\n",
       "      <td>4,076</td>\n",
       "      <td>NaN</td>\n",
       "      <td>NaN</td>\n",
       "      <td>NaN</td>\n",
       "      <td>NaN</td>\n",
       "    </tr>\n",
       "    <tr>\n",
       "      <th>22</th>\n",
       "      <td>평균 근속연수</td>\n",
       "      <td>5.45</td>\n",
       "      <td>5.32</td>\n",
       "      <td>5.29</td>\n",
       "      <td>5.92</td>\n",
       "      <td>5.77</td>\n",
       "      <td>NaN</td>\n",
       "      <td>NaN</td>\n",
       "      <td>NaN</td>\n",
       "      <td>NaN</td>\n",
       "    </tr>\n",
       "    <tr>\n",
       "      <th>23</th>\n",
       "      <td>1인 평균 급여액</td>\n",
       "      <td>69,579</td>\n",
       "      <td>82,332</td>\n",
       "      <td>77,069</td>\n",
       "      <td>84,550</td>\n",
       "      <td>102,479</td>\n",
       "      <td>NaN</td>\n",
       "      <td>NaN</td>\n",
       "      <td>NaN</td>\n",
       "      <td>*천</td>\n",
       "    </tr>\n",
       "  </tbody>\n",
       "</table>\n",
       "</div>"
      ],
      "text/plain": [
       "          네이버    2016    2017    2018  ...      2021     2022     2023 Unnamed: 9\n",
       "0         매출액  40,226  46,785  55,869  ...    67,882   83,014   98,303         *억\n",
       "1        영업이익  11,020  11,792   9,425  ...    13,652   17,552   22,081        NaN\n",
       "2       당기순이익   7,591   7,701   6,279  ...   165,754   18,201   21,716        NaN\n",
       "3       영업이익률    27.4    25.2   16.87  ...     20.11    21.14    22.46        NaN\n",
       "4        순이익률   18.87   16.46   11.24  ...    244.18    21.93    22.09        NaN\n",
       "5      ROE(%)    26.2    18.5   12.97  ...    106.66     7.53     8.37        NaN\n",
       "6      ROA(%)   14.11    10.7    7.02  ...     65.83     5.28     5.85        NaN\n",
       "7        자산총계  63,706  80,193  98,812  ...   333,451  355,944  386,051        NaN\n",
       "8        자본총계  41,296  53,052  59,491  ...   245,001  261,927  283,907        NaN\n",
       "9        부채총계  22,410  27,141  39,320  ...    88,450   94,017  102,144        NaN\n",
       "10     매출액증가율     NaN    16.3   19.42  ...     27.98      NaN      NaN        NaN\n",
       "11    영업이익증가율     NaN       7  -20.07  ...     12.33      NaN      NaN        NaN\n",
       "12     순이익증가율     NaN    1.45  -18.46  ...  1,861.59      NaN      NaN        NaN\n",
       "13     총자산증가율     NaN   25.88   23.22  ...     95.98      NaN      NaN        NaN\n",
       "14        EPS   4,546   4,689   3,937  ...   100,977   11,288   13,533        NaN\n",
       "15        BPS  24,957  32,429  35,847  ...   159,097  170,861  185,206        NaN\n",
       "16        SPS     NaN  28,386  33,898  ...    41,325      NaN      NaN        NaN\n",
       "17        PER   34.09    37.1   30.99  ...      4.07    36.37    30.33        NaN\n",
       "18        PBR    6.21    5.37     3.4  ...      2.58      2.4     2.22        NaN\n",
       "19        PSR     NaN    6.13     3.6  ...      9.96      NaN      NaN        NaN\n",
       "20  EV/EBITDA     NaN    18.4   14.34  ...     33.97      NaN      NaN        NaN\n",
       "21      직원 현황   2,693   2,793   3,585  ...       NaN      NaN      NaN        NaN\n",
       "22    평균 근속연수    5.45    5.32    5.29  ...       NaN      NaN      NaN        NaN\n",
       "23  1인 평균 급여액  69,579  82,332  77,069  ...       NaN      NaN      NaN         *천\n",
       "\n",
       "[24 rows x 10 columns]"
      ]
     },
     "execution_count": 6,
     "metadata": {},
     "output_type": "execute_result"
    }
   ],
   "source": [
    "test"
   ]
  },
  {
   "cell_type": "markdown",
   "metadata": {
    "id": "eMCMgK8nGMQH"
   },
   "source": [
    "우선적으로 2018-2020년에 대한 영업이익, 당기순이익, 직원수 데이터를 가져오기 위한 코드를 실행했다."
   ]
  },
  {
   "cell_type": "code",
   "execution_count": 7,
   "metadata": {
    "id": "B7B8eMYN0-ou"
   },
   "outputs": [],
   "source": [
    "#영업이익\n",
    "y_2020_m = []\n",
    "\n",
    "for csv in csv_list:\n",
    "  df_y = pd.read_csv(csv)\n",
    "  if type(df_y['2020'][2])==str:\n",
    "    yval = int(df_y['2020'][2].replace(\",\",\"\"))\n",
    "    y_2020_m.append(yval)\n",
    "  else:\n",
    "    y_2020_m.append(df_y['2020'][2])\n"
   ]
  },
  {
   "cell_type": "code",
   "execution_count": 8,
   "metadata": {
    "id": "HtlTcP_p0-ou"
   },
   "outputs": [],
   "source": [
    "#직원수\n",
    "y_2020_p =[]\n",
    "for csv in csv_list:\n",
    "  df_y = pd.read_csv(csv)\n",
    "  if type(df_y['2020'][21])==str:\n",
    "    yval = float(df_y['2020'][21].replace(\",\",\"\"))\n",
    "    y_2020_p.append(yval)\n",
    "  else:\n",
    "    y_2020_p.append(df_y['2020'][21])"
   ]
  },
  {
   "cell_type": "code",
   "execution_count": 9,
   "metadata": {
    "id": "TW-E0RBr0-ov"
   },
   "outputs": [],
   "source": [
    "#순이익증가율\n",
    "y_2020_i =[]\n",
    "for csv in csv_list:\n",
    "  df_y = pd.read_csv(csv)\n",
    "  if type(df_y['2020'][12])==str:\n",
    "    yval = float(df_y['2020'][12].replace(\",\",\"\"))\n",
    "    y_2020_i.append(yval)\n",
    "  else:\n",
    "    y_2020_i.append(df_y['2020'][12])"
   ]
  },
  {
   "cell_type": "code",
   "execution_count": 10,
   "metadata": {
    "id": "W4RC6brd1Nl7"
   },
   "outputs": [],
   "source": [
    "#영업이익\n",
    "y_2019_m = []\n",
    "\n",
    "for csv in csv_list:\n",
    "  df_y = pd.read_csv(csv)\n",
    "  if type(df_y['2019'][2])==str:\n",
    "    yval = int(df_y['2019'][2].replace(\",\",\"\"))\n",
    "    y_2019_m.append(yval)\n",
    "  else:\n",
    "    y_2019_m.append(df_y['2019'][2])\n"
   ]
  },
  {
   "cell_type": "code",
   "execution_count": 11,
   "metadata": {
    "id": "Yjd7GtWo1Nl8"
   },
   "outputs": [],
   "source": [
    "#직원수\n",
    "y_2019_p =[]\n",
    "for csv in csv_list:\n",
    "  df_y = pd.read_csv(csv)\n",
    "  if type(df_y['2019'][21])==str:\n",
    "    yval = float(df_y['2019'][21].replace(\",\",\"\"))\n",
    "    y_2019_p.append(yval)\n",
    "  else:\n",
    "    y_2019_p.append(df_y['2019'][21])"
   ]
  },
  {
   "cell_type": "code",
   "execution_count": 12,
   "metadata": {
    "id": "I2jVTdT71Nl8"
   },
   "outputs": [],
   "source": [
    "#순이익증가율\n",
    "y_2019_i =[]\n",
    "for csv in csv_list:\n",
    "  df_y = pd.read_csv(csv)\n",
    "  if type(df_y['2019'][12])==str:\n",
    "    yval = float(df_y['2019'][12].replace(\",\",\"\"))\n",
    "    y_2019_i.append(yval)\n",
    "  else:\n",
    "    y_2019_i.append(df_y['2019'][12])"
   ]
  },
  {
   "cell_type": "code",
   "execution_count": 13,
   "metadata": {
    "id": "nLgRzIFfz37J"
   },
   "outputs": [],
   "source": [
    "#당기순이익\n",
    "y_2018_m = []\n",
    "\n",
    "for csv in csv_list:\n",
    "  df_y = pd.read_csv(csv)\n",
    "  if type(df_y['2018'][2])==str:\n",
    "    yval = int(df_y['2018'][2].replace(\",\",\"\"))\n",
    "    y_2018_m.append(yval)\n",
    "  else:\n",
    "    y_2018_m.append(df_y['2018'][2])\n"
   ]
  },
  {
   "cell_type": "code",
   "execution_count": 14,
   "metadata": {
    "id": "dHN4X2lP3qDH"
   },
   "outputs": [],
   "source": [
    "y_2018_p =[]\n",
    "for csv in csv_list:\n",
    "  df_y = pd.read_csv(csv)\n",
    "  if type(df_y['2018'][21])==str:\n",
    "    yval = float(df_y['2018'][21].replace(\",\",\"\"))\n",
    "    y_2018_p.append(yval)\n",
    "  else:\n",
    "    y_2018_p.append(df_y['2018'][21])"
   ]
  },
  {
   "cell_type": "code",
   "execution_count": 15,
   "metadata": {
    "id": "kIe-dlMg0XcV"
   },
   "outputs": [],
   "source": [
    "#순이익증가율\n",
    "y_2018_i =[]\n",
    "for csv in csv_list:\n",
    "  df_y = pd.read_csv(csv)\n",
    "  if type(df_y['2018'][12])==str:\n",
    "    yval = float(df_y['2018'][12].replace(\",\",\"\"))\n",
    "    y_2018_i.append(yval)\n",
    "  else:\n",
    "    y_2018_i.append(df_y['2018'][12])"
   ]
  },
  {
   "cell_type": "code",
   "execution_count": 16,
   "metadata": {
    "colab": {
     "base_uri": "https://localhost:8080/"
    },
    "id": "tPiu1vyX6mWh",
    "outputId": "402dfbf9-0f5b-4536-dff4-9566a2378378"
   },
   "outputs": [
    {
     "name": "stdout",
     "output_type": "stream",
     "text": [
      "[6279, 1105, nan, -136, 234, 220, -444, 6388, 293, 228, 4215, 62, 159, -11443, 2510, 177, -342, 170, 172, 108]\n",
      "[3968, 1634, nan, -448, 530, 380, -1244, 7504, 107, 191, 3592, -452, -3419, -7232, 2789, 186, 397, 210, 62, 221]\n",
      "[8450, 1664, nan, 331, 299, 263, -893, 4529, 696, 185, 5866, 2140, 1734, -6144, 5563, 176, 90, 200, 66, 466]\n"
     ]
    }
   ],
   "source": [
    "print(y_2018_m)\n",
    "print(y_2019_m)\n",
    "print(y_2020_m)"
   ]
  },
  {
   "cell_type": "markdown",
   "metadata": {
    "id": "fM2u_qu9GKsW"
   },
   "source": [
    "가져온 데이터로 각 변수 별 데이터셋을 만들었다."
   ]
  },
  {
   "cell_type": "code",
   "execution_count": 17,
   "metadata": {
    "id": "hFMutVIo9rA0"
   },
   "outputs": [],
   "source": [
    "colName = [\"네이버\",'LG CNS','당근마켓','라인플러스','롯데정보통신','무신사',\n",
    "           '비바리퍼블리카','삼성SDS','신세계아이앤씨','안랩','엔씨소프트','우아한형제들',\n",
    "           '카카오', '쿠팡','크래프톤','티맥스소프트','포스코ICT','하이퍼커넥트','한국IBM','한글과컴퓨터']\n",
    "y_m = pd.DataFrame([y_2018_m, y_2019_m, y_2020_m], columns = colName).T\n"
   ]
  },
  {
   "cell_type": "code",
   "execution_count": 18,
   "metadata": {
    "colab": {
     "base_uri": "https://localhost:8080/",
     "height": 677
    },
    "id": "yLTjcRkEMlv0",
    "outputId": "3826aa3c-5c85-4d7c-968a-71788e0a05ed"
   },
   "outputs": [
    {
     "data": {
      "text/html": [
       "<div>\n",
       "<style scoped>\n",
       "    .dataframe tbody tr th:only-of-type {\n",
       "        vertical-align: middle;\n",
       "    }\n",
       "\n",
       "    .dataframe tbody tr th {\n",
       "        vertical-align: top;\n",
       "    }\n",
       "\n",
       "    .dataframe thead th {\n",
       "        text-align: right;\n",
       "    }\n",
       "</style>\n",
       "<table border=\"1\" class=\"dataframe\">\n",
       "  <thead>\n",
       "    <tr style=\"text-align: right;\">\n",
       "      <th></th>\n",
       "      <th>0</th>\n",
       "      <th>1</th>\n",
       "      <th>2</th>\n",
       "    </tr>\n",
       "  </thead>\n",
       "  <tbody>\n",
       "    <tr>\n",
       "      <th>네이버</th>\n",
       "      <td>6279.0</td>\n",
       "      <td>3968.0</td>\n",
       "      <td>8450.0</td>\n",
       "    </tr>\n",
       "    <tr>\n",
       "      <th>LG CNS</th>\n",
       "      <td>1105.0</td>\n",
       "      <td>1634.0</td>\n",
       "      <td>1664.0</td>\n",
       "    </tr>\n",
       "    <tr>\n",
       "      <th>당근마켓</th>\n",
       "      <td>100.0</td>\n",
       "      <td>100.0</td>\n",
       "      <td>100.0</td>\n",
       "    </tr>\n",
       "    <tr>\n",
       "      <th>라인플러스</th>\n",
       "      <td>-136.0</td>\n",
       "      <td>-448.0</td>\n",
       "      <td>331.0</td>\n",
       "    </tr>\n",
       "    <tr>\n",
       "      <th>롯데정보통신</th>\n",
       "      <td>234.0</td>\n",
       "      <td>530.0</td>\n",
       "      <td>299.0</td>\n",
       "    </tr>\n",
       "    <tr>\n",
       "      <th>무신사</th>\n",
       "      <td>220.0</td>\n",
       "      <td>380.0</td>\n",
       "      <td>263.0</td>\n",
       "    </tr>\n",
       "    <tr>\n",
       "      <th>비바리퍼블리카</th>\n",
       "      <td>-444.0</td>\n",
       "      <td>-1244.0</td>\n",
       "      <td>-893.0</td>\n",
       "    </tr>\n",
       "    <tr>\n",
       "      <th>삼성SDS</th>\n",
       "      <td>6388.0</td>\n",
       "      <td>7504.0</td>\n",
       "      <td>4529.0</td>\n",
       "    </tr>\n",
       "    <tr>\n",
       "      <th>신세계아이앤씨</th>\n",
       "      <td>293.0</td>\n",
       "      <td>107.0</td>\n",
       "      <td>696.0</td>\n",
       "    </tr>\n",
       "    <tr>\n",
       "      <th>안랩</th>\n",
       "      <td>228.0</td>\n",
       "      <td>191.0</td>\n",
       "      <td>185.0</td>\n",
       "    </tr>\n",
       "    <tr>\n",
       "      <th>엔씨소프트</th>\n",
       "      <td>4215.0</td>\n",
       "      <td>3592.0</td>\n",
       "      <td>5866.0</td>\n",
       "    </tr>\n",
       "    <tr>\n",
       "      <th>우아한형제들</th>\n",
       "      <td>62.0</td>\n",
       "      <td>-452.0</td>\n",
       "      <td>2140.0</td>\n",
       "    </tr>\n",
       "    <tr>\n",
       "      <th>카카오</th>\n",
       "      <td>159.0</td>\n",
       "      <td>-3419.0</td>\n",
       "      <td>1734.0</td>\n",
       "    </tr>\n",
       "    <tr>\n",
       "      <th>쿠팡</th>\n",
       "      <td>-11443.0</td>\n",
       "      <td>-7232.0</td>\n",
       "      <td>-6144.0</td>\n",
       "    </tr>\n",
       "    <tr>\n",
       "      <th>크래프톤</th>\n",
       "      <td>2510.0</td>\n",
       "      <td>2789.0</td>\n",
       "      <td>5563.0</td>\n",
       "    </tr>\n",
       "    <tr>\n",
       "      <th>티맥스소프트</th>\n",
       "      <td>177.0</td>\n",
       "      <td>186.0</td>\n",
       "      <td>176.0</td>\n",
       "    </tr>\n",
       "    <tr>\n",
       "      <th>포스코ICT</th>\n",
       "      <td>-342.0</td>\n",
       "      <td>397.0</td>\n",
       "      <td>90.0</td>\n",
       "    </tr>\n",
       "    <tr>\n",
       "      <th>하이퍼커넥트</th>\n",
       "      <td>170.0</td>\n",
       "      <td>210.0</td>\n",
       "      <td>200.0</td>\n",
       "    </tr>\n",
       "    <tr>\n",
       "      <th>한국IBM</th>\n",
       "      <td>172.0</td>\n",
       "      <td>62.0</td>\n",
       "      <td>66.0</td>\n",
       "    </tr>\n",
       "    <tr>\n",
       "      <th>한글과컴퓨터</th>\n",
       "      <td>108.0</td>\n",
       "      <td>221.0</td>\n",
       "      <td>466.0</td>\n",
       "    </tr>\n",
       "  </tbody>\n",
       "</table>\n",
       "</div>"
      ],
      "text/plain": [
       "               0       1       2\n",
       "네이버       6279.0  3968.0  8450.0\n",
       "LG CNS    1105.0  1634.0  1664.0\n",
       "당근마켓       100.0   100.0   100.0\n",
       "라인플러스     -136.0  -448.0   331.0\n",
       "롯데정보통신     234.0   530.0   299.0\n",
       "무신사        220.0   380.0   263.0\n",
       "비바리퍼블리카   -444.0 -1244.0  -893.0\n",
       "삼성SDS     6388.0  7504.0  4529.0\n",
       "신세계아이앤씨    293.0   107.0   696.0\n",
       "안랩         228.0   191.0   185.0\n",
       "엔씨소프트     4215.0  3592.0  5866.0\n",
       "우아한형제들      62.0  -452.0  2140.0\n",
       "카카오        159.0 -3419.0  1734.0\n",
       "쿠팡      -11443.0 -7232.0 -6144.0\n",
       "크래프톤      2510.0  2789.0  5563.0\n",
       "티맥스소프트     177.0   186.0   176.0\n",
       "포스코ICT    -342.0   397.0    90.0\n",
       "하이퍼커넥트     170.0   210.0   200.0\n",
       "한국IBM      172.0    62.0    66.0\n",
       "한글과컴퓨터     108.0   221.0   466.0"
      ]
     },
     "execution_count": 18,
     "metadata": {},
     "output_type": "execute_result"
    }
   ],
   "source": [
    "#당기순이익\n",
    "y_m = y_m.fillna(value = 100)\n",
    "y_m"
   ]
  },
  {
   "cell_type": "code",
   "execution_count": 19,
   "metadata": {
    "colab": {
     "base_uri": "https://localhost:8080/",
     "height": 677
    },
    "id": "m4s_6epV4Coy",
    "outputId": "85ec506a-eb17-4dc8-c22c-dbbcc515b0a8"
   },
   "outputs": [
    {
     "data": {
      "text/html": [
       "<div>\n",
       "<style scoped>\n",
       "    .dataframe tbody tr th:only-of-type {\n",
       "        vertical-align: middle;\n",
       "    }\n",
       "\n",
       "    .dataframe tbody tr th {\n",
       "        vertical-align: top;\n",
       "    }\n",
       "\n",
       "    .dataframe thead th {\n",
       "        text-align: right;\n",
       "    }\n",
       "</style>\n",
       "<table border=\"1\" class=\"dataframe\">\n",
       "  <thead>\n",
       "    <tr style=\"text-align: right;\">\n",
       "      <th></th>\n",
       "      <th>0</th>\n",
       "      <th>1</th>\n",
       "      <th>2</th>\n",
       "    </tr>\n",
       "  </thead>\n",
       "  <tbody>\n",
       "    <tr>\n",
       "      <th>네이버</th>\n",
       "      <td>3585.00</td>\n",
       "      <td>3492.00</td>\n",
       "      <td>4076.00</td>\n",
       "    </tr>\n",
       "    <tr>\n",
       "      <th>LG CNS</th>\n",
       "      <td>5842.00</td>\n",
       "      <td>6173.00</td>\n",
       "      <td>6175.00</td>\n",
       "    </tr>\n",
       "    <tr>\n",
       "      <th>당근마켓</th>\n",
       "      <td>100.00</td>\n",
       "      <td>100.00</td>\n",
       "      <td>100.00</td>\n",
       "    </tr>\n",
       "    <tr>\n",
       "      <th>라인플러스</th>\n",
       "      <td>1130.00</td>\n",
       "      <td>1194.00</td>\n",
       "      <td>1138.00</td>\n",
       "    </tr>\n",
       "    <tr>\n",
       "      <th>롯데정보통신</th>\n",
       "      <td>2090.00</td>\n",
       "      <td>2784.00</td>\n",
       "      <td>2803.00</td>\n",
       "    </tr>\n",
       "    <tr>\n",
       "      <th>무신사</th>\n",
       "      <td>184.00</td>\n",
       "      <td>407.00</td>\n",
       "      <td>595.00</td>\n",
       "    </tr>\n",
       "    <tr>\n",
       "      <th>비바리퍼블리카</th>\n",
       "      <td>174.00</td>\n",
       "      <td>336.00</td>\n",
       "      <td>464.00</td>\n",
       "    </tr>\n",
       "    <tr>\n",
       "      <th>삼성SDS</th>\n",
       "      <td>12677.00</td>\n",
       "      <td>12501.00</td>\n",
       "      <td>12323.00</td>\n",
       "    </tr>\n",
       "    <tr>\n",
       "      <th>신세계아이앤씨</th>\n",
       "      <td>729.00</td>\n",
       "      <td>867.00</td>\n",
       "      <td>923.00</td>\n",
       "    </tr>\n",
       "    <tr>\n",
       "      <th>안랩</th>\n",
       "      <td>1133.00</td>\n",
       "      <td>1187.00</td>\n",
       "      <td>1206.00</td>\n",
       "    </tr>\n",
       "    <tr>\n",
       "      <th>엔씨소프트</th>\n",
       "      <td>14.04</td>\n",
       "      <td>19.69</td>\n",
       "      <td>20.95</td>\n",
       "    </tr>\n",
       "    <tr>\n",
       "      <th>우아한형제들</th>\n",
       "      <td>734.00</td>\n",
       "      <td>926.00</td>\n",
       "      <td>1180.00</td>\n",
       "    </tr>\n",
       "    <tr>\n",
       "      <th>카카오</th>\n",
       "      <td>2705.00</td>\n",
       "      <td>2701.00</td>\n",
       "      <td>2837.00</td>\n",
       "    </tr>\n",
       "    <tr>\n",
       "      <th>쿠팡</th>\n",
       "      <td>6372.00</td>\n",
       "      <td>9540.00</td>\n",
       "      <td>23299.00</td>\n",
       "    </tr>\n",
       "    <tr>\n",
       "      <th>크래프톤</th>\n",
       "      <td>583.00</td>\n",
       "      <td>726.00</td>\n",
       "      <td>1171.00</td>\n",
       "    </tr>\n",
       "    <tr>\n",
       "      <th>티맥스소프트</th>\n",
       "      <td>515.00</td>\n",
       "      <td>601.00</td>\n",
       "      <td>562.00</td>\n",
       "    </tr>\n",
       "    <tr>\n",
       "      <th>포스코ICT</th>\n",
       "      <td>2535.00</td>\n",
       "      <td>2469.00</td>\n",
       "      <td>2064.00</td>\n",
       "    </tr>\n",
       "    <tr>\n",
       "      <th>하이퍼커넥트</th>\n",
       "      <td>180.00</td>\n",
       "      <td>274.00</td>\n",
       "      <td>360.00</td>\n",
       "    </tr>\n",
       "    <tr>\n",
       "      <th>한국IBM</th>\n",
       "      <td>1599.00</td>\n",
       "      <td>1408.00</td>\n",
       "      <td>1247.00</td>\n",
       "    </tr>\n",
       "    <tr>\n",
       "      <th>한글과컴퓨터</th>\n",
       "      <td>479.00</td>\n",
       "      <td>415.00</td>\n",
       "      <td>415.00</td>\n",
       "    </tr>\n",
       "  </tbody>\n",
       "</table>\n",
       "</div>"
      ],
      "text/plain": [
       "                0         1         2\n",
       "네이버       3585.00   3492.00   4076.00\n",
       "LG CNS    5842.00   6173.00   6175.00\n",
       "당근마켓       100.00    100.00    100.00\n",
       "라인플러스     1130.00   1194.00   1138.00\n",
       "롯데정보통신    2090.00   2784.00   2803.00\n",
       "무신사        184.00    407.00    595.00\n",
       "비바리퍼블리카    174.00    336.00    464.00\n",
       "삼성SDS    12677.00  12501.00  12323.00\n",
       "신세계아이앤씨    729.00    867.00    923.00\n",
       "안랩        1133.00   1187.00   1206.00\n",
       "엔씨소프트       14.04     19.69     20.95\n",
       "우아한형제들     734.00    926.00   1180.00\n",
       "카카오       2705.00   2701.00   2837.00\n",
       "쿠팡        6372.00   9540.00  23299.00\n",
       "크래프톤       583.00    726.00   1171.00\n",
       "티맥스소프트     515.00    601.00    562.00\n",
       "포스코ICT    2535.00   2469.00   2064.00\n",
       "하이퍼커넥트     180.00    274.00    360.00\n",
       "한국IBM     1599.00   1408.00   1247.00\n",
       "한글과컴퓨터     479.00    415.00    415.00"
      ]
     },
     "execution_count": 19,
     "metadata": {},
     "output_type": "execute_result"
    }
   ],
   "source": [
    "#직원수\n",
    "y_p = pd.DataFrame([y_2018_p, y_2019_p, y_2020_p], columns = colName).T\n",
    "y_p = y_p.fillna(value = 100) #결측치 처리\n",
    "y_p"
   ]
  },
  {
   "cell_type": "code",
   "execution_count": 20,
   "metadata": {
    "colab": {
     "base_uri": "https://localhost:8080/",
     "height": 677
    },
    "id": "DHWCs_y54Q8G",
    "outputId": "e4ad9dc3-a751-4dd1-adcd-6757437807ce"
   },
   "outputs": [
    {
     "data": {
      "text/html": [
       "<div>\n",
       "<style scoped>\n",
       "    .dataframe tbody tr th:only-of-type {\n",
       "        vertical-align: middle;\n",
       "    }\n",
       "\n",
       "    .dataframe tbody tr th {\n",
       "        vertical-align: top;\n",
       "    }\n",
       "\n",
       "    .dataframe thead th {\n",
       "        text-align: right;\n",
       "    }\n",
       "</style>\n",
       "<table border=\"1\" class=\"dataframe\">\n",
       "  <thead>\n",
       "    <tr style=\"text-align: right;\">\n",
       "      <th></th>\n",
       "      <th>0</th>\n",
       "      <th>1</th>\n",
       "      <th>2</th>\n",
       "    </tr>\n",
       "  </thead>\n",
       "  <tbody>\n",
       "    <tr>\n",
       "      <th>네이버</th>\n",
       "      <td>-18.46</td>\n",
       "      <td>-36.80</td>\n",
       "      <td>112.94</td>\n",
       "    </tr>\n",
       "    <tr>\n",
       "      <th>LG CNS</th>\n",
       "      <td>-6.99</td>\n",
       "      <td>47.87</td>\n",
       "      <td>1.84</td>\n",
       "    </tr>\n",
       "    <tr>\n",
       "      <th>당근마켓</th>\n",
       "      <td>0.00</td>\n",
       "      <td>0.00</td>\n",
       "      <td>0.00</td>\n",
       "    </tr>\n",
       "    <tr>\n",
       "      <th>라인플러스</th>\n",
       "      <td>-111.63</td>\n",
       "      <td>229.41</td>\n",
       "      <td>-173.88</td>\n",
       "    </tr>\n",
       "    <tr>\n",
       "      <th>롯데정보통신</th>\n",
       "      <td>854.33</td>\n",
       "      <td>126.79</td>\n",
       "      <td>-43.64</td>\n",
       "    </tr>\n",
       "    <tr>\n",
       "      <th>무신사</th>\n",
       "      <td>18.28</td>\n",
       "      <td>72.73</td>\n",
       "      <td>-30.79</td>\n",
       "    </tr>\n",
       "    <tr>\n",
       "      <th>비바리퍼블리카</th>\n",
       "      <td>13.85</td>\n",
       "      <td>180.18</td>\n",
       "      <td>-28.22</td>\n",
       "    </tr>\n",
       "    <tr>\n",
       "      <th>삼성SDS</th>\n",
       "      <td>17.91</td>\n",
       "      <td>17.48</td>\n",
       "      <td>-39.65</td>\n",
       "    </tr>\n",
       "    <tr>\n",
       "      <th>신세계아이앤씨</th>\n",
       "      <td>194.96</td>\n",
       "      <td>-63.57</td>\n",
       "      <td>552.83</td>\n",
       "    </tr>\n",
       "    <tr>\n",
       "      <th>안랩</th>\n",
       "      <td>40.34</td>\n",
       "      <td>-16.21</td>\n",
       "      <td>-3.47</td>\n",
       "    </tr>\n",
       "    <tr>\n",
       "      <th>엔씨소프트</th>\n",
       "      <td>-5.08</td>\n",
       "      <td>-14.79</td>\n",
       "      <td>63.33</td>\n",
       "    </tr>\n",
       "    <tr>\n",
       "      <th>우아한형제들</th>\n",
       "      <td>-70.62</td>\n",
       "      <td>-829.03</td>\n",
       "      <td>-573.45</td>\n",
       "    </tr>\n",
       "    <tr>\n",
       "      <th>카카오</th>\n",
       "      <td>-87.30</td>\n",
       "      <td>-2251.98</td>\n",
       "      <td>150.70</td>\n",
       "    </tr>\n",
       "    <tr>\n",
       "      <th>쿠팡</th>\n",
       "      <td>69.90</td>\n",
       "      <td>-36.80</td>\n",
       "      <td>-15.04</td>\n",
       "    </tr>\n",
       "    <tr>\n",
       "      <th>크래프톤</th>\n",
       "      <td>0.00</td>\n",
       "      <td>11.10</td>\n",
       "      <td>99.48</td>\n",
       "    </tr>\n",
       "    <tr>\n",
       "      <th>티맥스소프트</th>\n",
       "      <td>268.75</td>\n",
       "      <td>5.08</td>\n",
       "      <td>-5.38</td>\n",
       "    </tr>\n",
       "    <tr>\n",
       "      <th>포스코ICT</th>\n",
       "      <td>-181.34</td>\n",
       "      <td>216.14</td>\n",
       "      <td>-77.32</td>\n",
       "    </tr>\n",
       "    <tr>\n",
       "      <th>하이퍼커넥트</th>\n",
       "      <td>136.11</td>\n",
       "      <td>23.53</td>\n",
       "      <td>-4.76</td>\n",
       "    </tr>\n",
       "    <tr>\n",
       "      <th>한국IBM</th>\n",
       "      <td>-61.00</td>\n",
       "      <td>-63.95</td>\n",
       "      <td>6.45</td>\n",
       "    </tr>\n",
       "    <tr>\n",
       "      <th>한글과컴퓨터</th>\n",
       "      <td>-47.36</td>\n",
       "      <td>105.69</td>\n",
       "      <td>110.67</td>\n",
       "    </tr>\n",
       "  </tbody>\n",
       "</table>\n",
       "</div>"
      ],
      "text/plain": [
       "              0        1       2\n",
       "네이버      -18.46   -36.80  112.94\n",
       "LG CNS    -6.99    47.87    1.84\n",
       "당근마켓       0.00     0.00    0.00\n",
       "라인플러스   -111.63   229.41 -173.88\n",
       "롯데정보통신   854.33   126.79  -43.64\n",
       "무신사       18.28    72.73  -30.79\n",
       "비바리퍼블리카   13.85   180.18  -28.22\n",
       "삼성SDS     17.91    17.48  -39.65\n",
       "신세계아이앤씨  194.96   -63.57  552.83\n",
       "안랩        40.34   -16.21   -3.47\n",
       "엔씨소프트     -5.08   -14.79   63.33\n",
       "우아한형제들   -70.62  -829.03 -573.45\n",
       "카카오      -87.30 -2251.98  150.70\n",
       "쿠팡        69.90   -36.80  -15.04\n",
       "크래프톤       0.00    11.10   99.48\n",
       "티맥스소프트   268.75     5.08   -5.38\n",
       "포스코ICT  -181.34   216.14  -77.32\n",
       "하이퍼커넥트   136.11    23.53   -4.76\n",
       "한국IBM    -61.00   -63.95    6.45\n",
       "한글과컴퓨터   -47.36   105.69  110.67"
      ]
     },
     "execution_count": 20,
     "metadata": {},
     "output_type": "execute_result"
    }
   ],
   "source": [
    "#순이익증가율\n",
    "y_i = pd.DataFrame([y_2018_i, y_2019_i, y_2020_i], columns = colName).T\n",
    "y_i = y_i.fillna(value = 0)\n",
    "y_i"
   ]
  },
  {
   "cell_type": "code",
   "execution_count": 21,
   "metadata": {
    "id": "5IvZjk1f4Zx5"
   },
   "outputs": [],
   "source": [
    "#별점정보 파일 디렉토리\n",
    "csv_list3 = ['/content/drive/MyDrive/final커텍마/csv/NAVER.csv',\n",
    "             '/content/drive/MyDrive/final커텍마/csv/LG%20CNS.csv',\n",
    "             '/content/drive/MyDrive/final커텍마/csv/당근마켓.csv',\n",
    "             '/content/drive/MyDrive/final커텍마/csv/라인플러스.csv',\n",
    "             '/content/drive/MyDrive/final커텍마/csv/롯데정보통신.csv',\n",
    "             '/content/drive/MyDrive/final커텍마/csv/무신사.csv',\n",
    "             '/content/drive/MyDrive/final커텍마/csv/비바리퍼블리카 (1).csv',\n",
    "             '/content/drive/MyDrive/final커텍마/csv/삼성SDS.csv',\n",
    "            '/content/drive/MyDrive/final커텍마/csv/신세계아이앤씨.csv',\n",
    "             '/content/drive/MyDrive/final커텍마/csv/AhnLab.csv',\n",
    "             '/content/drive/MyDrive/final커텍마/csv/NCSOFT.csv',\n",
    "             '/content/drive/MyDrive/final커텍마/csv/우아한형제들.csv',\n",
    "             '/content/drive/MyDrive/final커텍마/csv/카카오.csv',\n",
    "             '/content/drive/MyDrive/final커텍마/csv/COUPANG.csv',\n",
    "             '/content/drive/MyDrive/final커텍마/csv/크래프톤.csv',\n",
    "             '/content/drive/MyDrive/final커텍마/csv/티맥스소프트.csv',\n",
    "             '/content/drive/MyDrive/final커텍마/csv/포스코ICT.csv',\n",
    "             '/content/drive/MyDrive/final커텍마/csv/하이퍼커넥트.csv',\n",
    "             '/content/drive/MyDrive/final커텍마/csv/한국IBM.csv',\n",
    "             '/content/drive/MyDrive/final커텍마/csv/한글과컴퓨터.csv'\n",
    "             ]"
   ]
  },
  {
   "cell_type": "code",
   "execution_count": 22,
   "metadata": {
    "id": "7oydfug_APMU"
   },
   "outputs": [],
   "source": [
    "#별점정보 추출 전처리\n",
    "def getX(csv):\n",
    "  df_x = pd.read_csv(csv)\n",
    "  df_x = df_x.fillna(value = 0)\n",
    "  career = np.mean(df_x['career'].to_numpy())\n",
    "  life = np.mean(df_x['life'].to_numpy())\n",
    "  money = np.mean(df_x['money'].to_numpy())\n",
    "  culture = np.mean(df_x['culture'].to_numpy())\n",
    "  manager = np.mean(df_x['manager'].to_numpy())\n",
    "  xval = [career, life, money, culture, manager]\n",
    "  return xval"
   ]
  },
  {
   "cell_type": "code",
   "execution_count": 23,
   "metadata": {
    "id": "sAiFdycWEaMk"
   },
   "outputs": [],
   "source": [
    "x=[]\n",
    "for csv in csv_list3:\n",
    "  xval = getX(csv)\n",
    "  x.append(xval)"
   ]
  },
  {
   "cell_type": "code",
   "execution_count": 24,
   "metadata": {
    "colab": {
     "base_uri": "https://localhost:8080/"
    },
    "id": "J7zZhYeMTfs6",
    "outputId": "c382cc84-f524-4eca-f374-cff91dc16c0a"
   },
   "outputs": [
    {
     "data": {
      "text/plain": [
       "<bound method NDFrame.head of            0         1         2         3         4\n",
       "0   3.708187  3.230409  3.488304  3.377778  2.610526\n",
       "1   2.391667  2.677500  2.405000  2.698333  1.738333\n",
       "2   4.800000  3.883333  4.550000  4.800000  4.583333\n",
       "3   3.892063  3.911111  3.957143  3.934921  2.979365\n",
       "4   2.034615  3.130769  1.926923  2.234615  1.632051\n",
       "5   3.004167  3.316667  2.862500  2.362500  2.241667\n",
       "6   4.281818  2.345455  4.436364  3.854545  3.815152\n",
       "7   2.538333  3.942500  3.617500  3.053333  1.945833\n",
       "8   2.503704  3.259259  3.348148  2.788889  2.840741\n",
       "9   3.266667  4.100000  2.315152  3.333333  2.093939\n",
       "10  3.411594  3.595652  4.082609  3.327536  2.862319\n",
       "11  3.843137  3.560784  4.254902  4.186275  3.647059\n",
       "12  3.282883  3.948649  2.665766  3.431532  2.437838\n",
       "13  3.557692  3.148718  3.175641  3.378846  2.955769\n",
       "14  3.366667  2.820000  3.833333  3.186667  2.780000\n",
       "15  2.508696  3.220290  3.397101  2.910145  1.705797\n",
       "16  2.438889  3.366667  2.238889  2.511111  1.655556\n",
       "17  3.587500  4.129167  3.741667  3.475000  2.708333\n",
       "18  3.312500  3.370833  2.541667  3.279167  2.266667\n",
       "19  1.744444  2.672222  1.794444  1.844444  1.272222>"
      ]
     },
     "execution_count": 24,
     "metadata": {},
     "output_type": "execute_result"
    }
   ],
   "source": [
    "#별점정보 추출결과\n",
    "x= pd.DataFrame(x)\n",
    "x.head"
   ]
  },
  {
   "cell_type": "code",
   "execution_count": 26,
   "metadata": {
    "id": "WrmZipWgGgOo"
   },
   "outputs": [],
   "source": [
    "#당기순이익 선형회귀\n",
    "lr = LinearRegression()\n",
    "lr_m = lr.fit(x,y_m)"
   ]
  },
  {
   "cell_type": "code",
   "execution_count": 27,
   "metadata": {
    "colab": {
     "base_uri": "https://localhost:8080/"
    },
    "id": "Iq7W7E8b5_oL",
    "outputId": "f2f26241-ce03-4ca4-856c-423581f1ec9b"
   },
   "outputs": [
    {
     "data": {
      "text/plain": [
       "array([[   10.31653403,   982.64832781,  3649.144404  ,  -285.98006979,\n",
       "        -3623.43733472],\n",
       "       [ -622.37161023,   781.02738909,  3650.5721059 ,  -527.58072791,\n",
       "        -3052.64182745],\n",
       "       [  926.70240479,   268.27164979,  3184.08328597,  -624.77271401,\n",
       "        -3270.0681706 ]])"
      ]
     },
     "execution_count": 27,
     "metadata": {},
     "output_type": "execute_result"
    }
   ],
   "source": [
    "#변수 결과\n",
    "lr_m.coef_"
   ]
  },
  {
   "cell_type": "code",
   "execution_count": 28,
   "metadata": {
    "colab": {
     "base_uri": "https://localhost:8080/"
    },
    "id": "0lHrVxZJTRSM",
    "outputId": "e206eba2-9497-4fd8-f5cb-525d8764dca1"
   },
   "outputs": [
    {
     "data": {
      "text/plain": [
       "array([[ -868.88330592, -1427.38617138,  -128.23101671]])"
      ]
     },
     "execution_count": 28,
     "metadata": {},
     "output_type": "execute_result"
    }
   ],
   "source": [
    "#실제 예측값 -> 부정확한 것으로 드러남\n",
    "value = [[5,5,5,5,5]]\n",
    "lr_m.predict(value)"
   ]
  },
  {
   "cell_type": "code",
   "execution_count": 29,
   "metadata": {
    "id": "CoTgnMz-6Zh2"
   },
   "outputs": [],
   "source": [
    "#직원수에 대한 선형회귀\n",
    "lr_p = lr.fit(x, y_p)"
   ]
  },
  {
   "cell_type": "code",
   "execution_count": 30,
   "metadata": {
    "colab": {
     "base_uri": "https://localhost:8080/",
     "height": 677
    },
    "id": "RAh_NJg26sxq",
    "outputId": "503f86ed-731e-4f72-9710-cb04700d62e6"
   },
   "outputs": [
    {
     "data": {
      "text/html": [
       "<div>\n",
       "<style scoped>\n",
       "    .dataframe tbody tr th:only-of-type {\n",
       "        vertical-align: middle;\n",
       "    }\n",
       "\n",
       "    .dataframe tbody tr th {\n",
       "        vertical-align: top;\n",
       "    }\n",
       "\n",
       "    .dataframe thead th {\n",
       "        text-align: right;\n",
       "    }\n",
       "</style>\n",
       "<table border=\"1\" class=\"dataframe\">\n",
       "  <thead>\n",
       "    <tr style=\"text-align: right;\">\n",
       "      <th></th>\n",
       "      <th>0</th>\n",
       "    </tr>\n",
       "  </thead>\n",
       "  <tbody>\n",
       "    <tr>\n",
       "      <th>0</th>\n",
       "      <td>4076.00</td>\n",
       "    </tr>\n",
       "    <tr>\n",
       "      <th>1</th>\n",
       "      <td>6175.00</td>\n",
       "    </tr>\n",
       "    <tr>\n",
       "      <th>2</th>\n",
       "      <td>100.00</td>\n",
       "    </tr>\n",
       "    <tr>\n",
       "      <th>3</th>\n",
       "      <td>1138.00</td>\n",
       "    </tr>\n",
       "    <tr>\n",
       "      <th>4</th>\n",
       "      <td>2803.00</td>\n",
       "    </tr>\n",
       "    <tr>\n",
       "      <th>5</th>\n",
       "      <td>595.00</td>\n",
       "    </tr>\n",
       "    <tr>\n",
       "      <th>6</th>\n",
       "      <td>464.00</td>\n",
       "    </tr>\n",
       "    <tr>\n",
       "      <th>7</th>\n",
       "      <td>12323.00</td>\n",
       "    </tr>\n",
       "    <tr>\n",
       "      <th>8</th>\n",
       "      <td>923.00</td>\n",
       "    </tr>\n",
       "    <tr>\n",
       "      <th>9</th>\n",
       "      <td>1206.00</td>\n",
       "    </tr>\n",
       "    <tr>\n",
       "      <th>10</th>\n",
       "      <td>20.95</td>\n",
       "    </tr>\n",
       "    <tr>\n",
       "      <th>11</th>\n",
       "      <td>1180.00</td>\n",
       "    </tr>\n",
       "    <tr>\n",
       "      <th>12</th>\n",
       "      <td>2837.00</td>\n",
       "    </tr>\n",
       "    <tr>\n",
       "      <th>13</th>\n",
       "      <td>23299.00</td>\n",
       "    </tr>\n",
       "    <tr>\n",
       "      <th>14</th>\n",
       "      <td>1171.00</td>\n",
       "    </tr>\n",
       "    <tr>\n",
       "      <th>15</th>\n",
       "      <td>562.00</td>\n",
       "    </tr>\n",
       "    <tr>\n",
       "      <th>16</th>\n",
       "      <td>2064.00</td>\n",
       "    </tr>\n",
       "    <tr>\n",
       "      <th>17</th>\n",
       "      <td>360.00</td>\n",
       "    </tr>\n",
       "    <tr>\n",
       "      <th>18</th>\n",
       "      <td>1247.00</td>\n",
       "    </tr>\n",
       "    <tr>\n",
       "      <th>19</th>\n",
       "      <td>415.00</td>\n",
       "    </tr>\n",
       "  </tbody>\n",
       "</table>\n",
       "</div>"
      ],
      "text/plain": [
       "           0\n",
       "0    4076.00\n",
       "1    6175.00\n",
       "2     100.00\n",
       "3    1138.00\n",
       "4    2803.00\n",
       "5     595.00\n",
       "6     464.00\n",
       "7   12323.00\n",
       "8     923.00\n",
       "9    1206.00\n",
       "10     20.95\n",
       "11   1180.00\n",
       "12   2837.00\n",
       "13  23299.00\n",
       "14   1171.00\n",
       "15    562.00\n",
       "16   2064.00\n",
       "17    360.00\n",
       "18   1247.00\n",
       "19    415.00"
      ]
     },
     "execution_count": 30,
     "metadata": {},
     "output_type": "execute_result"
    }
   ],
   "source": [
    "#2020년의 직원수\n",
    "y_2020_p1 = pd.DataFrame(y_2020_p)\n",
    "y_2020_p1 = y_2020_p1.fillna(100)\n",
    "y_2020_p1"
   ]
  },
  {
   "cell_type": "code",
   "execution_count": 31,
   "metadata": {
    "id": "PcDg9Q686mCa"
   },
   "outputs": [],
   "source": [
    "#2020년 직원수에 대한 선형회귀\n",
    "lr_p2020 = lr.fit(x,y_2020_p1)"
   ]
  },
  {
   "cell_type": "code",
   "execution_count": 32,
   "metadata": {
    "colab": {
     "base_uri": "https://localhost:8080/"
    },
    "id": "URshhk7f69U_",
    "outputId": "b8e31e99-8fe6-4715-d894-b9d8731c4dce"
   },
   "outputs": [
    {
     "data": {
      "text/plain": [
       "array([[830.94960661]])"
      ]
     },
     "execution_count": 32,
     "metadata": {},
     "output_type": "execute_result"
    }
   ],
   "source": [
    "lr_p2020.predict(value)"
   ]
  },
  {
   "cell_type": "code",
   "execution_count": 33,
   "metadata": {
    "colab": {
     "base_uri": "https://localhost:8080/"
    },
    "id": "3EHLzwKE6cnS",
    "outputId": "539bf341-91f3-46f8-a2ac-67acd5f75a42"
   },
   "outputs": [
    {
     "data": {
      "text/plain": [
       "array([[-1268.77793869, -1258.82012178,  -798.67483826,  3206.09777273,\n",
       "         -945.04930253]])"
      ]
     },
     "execution_count": 33,
     "metadata": {},
     "output_type": "execute_result"
    }
   ],
   "source": [
    "lr_p.coef_"
   ]
  },
  {
   "cell_type": "code",
   "execution_count": 34,
   "metadata": {
    "colab": {
     "base_uri": "https://localhost:8080/"
    },
    "id": "RIi4U--l6fj1",
    "outputId": "9ab5f32f-c98d-458f-967a-be69215080d7"
   },
   "outputs": [
    {
     "data": {
      "text/plain": [
       "array([[830.94960661]])"
      ]
     },
     "execution_count": 34,
     "metadata": {},
     "output_type": "execute_result"
    }
   ],
   "source": [
    "lr_p.predict(value)"
   ]
  },
  {
   "cell_type": "code",
   "execution_count": 35,
   "metadata": {
    "id": "QSA0wa9m7JmE"
   },
   "outputs": [],
   "source": [
    "#순이익증가율에 대한 선형회귀\n",
    "lr_i = lr.fit(x, y_i)\n"
   ]
  },
  {
   "cell_type": "code",
   "execution_count": 36,
   "metadata": {
    "colab": {
     "base_uri": "https://localhost:8080/"
    },
    "id": "JisrfJnM71x3",
    "outputId": "e8e9d114-a2b0-445c-92e2-2fa7f57b0738"
   },
   "outputs": [
    {
     "data": {
      "text/plain": [
       "array([[-217.04571133,   30.96956272,  -23.44274683,  -47.81634232,\n",
       "         176.72022649],\n",
       "       [ 359.99245908, -195.25459552,  345.79496244, -594.02095613,\n",
       "        -211.41574534],\n",
       "       [ -26.12548925,   62.93018646,  -11.4388543 , -281.65141455,\n",
       "         193.61976377]])"
      ]
     },
     "execution_count": 36,
     "metadata": {},
     "output_type": "execute_result"
    }
   ],
   "source": [
    "lr_i.coef_"
   ]
  },
  {
   "cell_type": "code",
   "execution_count": 37,
   "metadata": {
    "colab": {
     "base_uri": "https://localhost:8080/"
    },
    "id": "eQidQGdG7zKd",
    "outputId": "3353255f-2491-4076-fb93-21798acd2f7b"
   },
   "outputs": [
    {
     "data": {
      "text/plain": [
       "array([[  12.35567512, -751.49113916,    8.20661929]])"
      ]
     },
     "execution_count": 37,
     "metadata": {},
     "output_type": "execute_result"
    }
   ],
   "source": [
    "lr_i.predict(value)"
   ]
  },
  {
   "cell_type": "code",
   "execution_count": 38,
   "metadata": {
    "id": "e9u5ghWpzfWC"
   },
   "outputs": [],
   "source": [
    "def getX2(csv):\n",
    "  df_x = pd.read_csv(csv)\n",
    "  df_x = df_x.fillna(value = 0)\n",
    "  career = df_x['career'].to_numpy()\n",
    "  life =df_x['life'].to_numpy()\n",
    "  money = df_x['money'].to_numpy()\n",
    "  culture = df_x['culture'].to_numpy()\n",
    "  manager = df_x['manager'].to_numpy()\n",
    "  xval = np.array([career, life, money, culture, manager])\n",
    "  return xval\n"
   ]
  },
  {
   "cell_type": "code",
   "execution_count": 43,
   "metadata": {
    "id": "lXrwLKiF4D8D"
   },
   "outputs": [],
   "source": [
    "value1 = [[3,3,3,3,3]]"
   ]
  },
  {
   "cell_type": "code",
   "execution_count": 45,
   "metadata": {
    "id": "2zQfdCKe4iUf"
   },
   "outputs": [],
   "source": [
    "#직원수 스케일링\n",
    "y_p_scaled = y_p*0.01"
   ]
  },
  {
   "cell_type": "code",
   "execution_count": 46,
   "metadata": {
    "id": "xBsmHH0C5BhT"
   },
   "outputs": [],
   "source": [
    "#스케일링 결과에 대한 선형회귀분석\n",
    "lr_p_scaled = lr.fit(x, y_p_scaled)"
   ]
  },
  {
   "cell_type": "code",
   "execution_count": 47,
   "metadata": {
    "colab": {
     "base_uri": "https://localhost:8080/"
    },
    "id": "RNZEh-PB5NTP",
    "outputId": "520757dc-3fda-4944-e736-69c7e006d020"
   },
   "outputs": [
    {
     "data": {
      "text/plain": [
       "array([[-26.1800553 ,  -2.39050002,   8.49205896,  41.20769762,\n",
       "        -26.0322937 ],\n",
       "       [-25.3642719 ,  -4.60696547,   4.77048159,  39.52675674,\n",
       "        -21.21528736],\n",
       "       [-12.68777939, -12.58820122,  -7.98674838,  32.06097773,\n",
       "         -9.45049303]])"
      ]
     },
     "execution_count": 47,
     "metadata": {},
     "output_type": "execute_result"
    }
   ],
   "source": [
    "lr_p_scaled.coef_"
   ]
  },
  {
   "cell_type": "code",
   "execution_count": 48,
   "metadata": {
    "colab": {
     "base_uri": "https://localhost:8080/"
    },
    "id": "8QkDWdWl5XmU",
    "outputId": "21055e49-dd40-46d6-f516-60bc8ab209a8"
   },
   "outputs": [
    {
     "data": {
      "text/plain": [
       "array([[-4.82057658, -2.29067155,  8.30949607]])"
      ]
     },
     "execution_count": 48,
     "metadata": {},
     "output_type": "execute_result"
    }
   ],
   "source": [
    "lr_p_scaled.predict(value)"
   ]
  },
  {
   "cell_type": "code",
   "execution_count": 50,
   "metadata": {
    "id": "1GPnmj3c6HaE"
   },
   "outputs": [],
   "source": [
    "#y 를 binary 변수로 변형 test\n",
    "def setY1(csv):\n",
    "   df_y = pd.read_csv(csv)\n",
    "   binary = 0\n",
    "   if type(df_y['2018'][12])==str:\n",
    "      yval = float(df_y['2018'][12].replace(\",\",\"\"))\n",
    "   else:\n",
    "      yval = df_y['2018'][12]\n",
    "   if yval > 0 :  binary = 1\n",
    "   return binary"
   ]
  },
  {
   "cell_type": "code",
   "execution_count": 51,
   "metadata": {
    "id": "JavB-3tp8xU-"
   },
   "outputs": [],
   "source": [
    "#general versionn of y to binary function\n",
    "def setY(year, index, csv):\n",
    "   df_y = pd.read_csv(csv)\n",
    "   binary = 0\n",
    "   if type(df_y[year][index])==str:\n",
    "      yval = float(df_y[year][index].replace(\",\",\"\"))\n",
    "   else:\n",
    "      yval = df_y[year][index]\n",
    "   if yval > 0 :  binary =1\n",
    "   return binary"
   ]
  },
  {
   "cell_type": "code",
   "execution_count": 52,
   "metadata": {
    "id": "s1ZvnkMr8OZP"
   },
   "outputs": [],
   "source": [
    "y_binary = []\n",
    "for csv in csv_list:\n",
    "  y_binary.append(setY1(csv))"
   ]
  },
  {
   "cell_type": "code",
   "execution_count": 53,
   "metadata": {
    "colab": {
     "base_uri": "https://localhost:8080/"
    },
    "id": "_P7YqEhX89GO",
    "outputId": "0e9b7453-f65f-4e1a-c152-94063eee26ec"
   },
   "outputs": [
    {
     "data": {
      "text/plain": [
       "[0, 0, 0, 0, 1, 1, 1, 1, 1, 1, 0, 0, 0, 1, 0, 1, 0, 1, 0, 0]"
      ]
     },
     "execution_count": 53,
     "metadata": {},
     "output_type": "execute_result"
    }
   ],
   "source": [
    "y_binary"
   ]
  },
  {
   "cell_type": "code",
   "execution_count": 54,
   "metadata": {
    "id": "IcuO1y4IAfoo"
   },
   "outputs": [],
   "source": [
    "y_binary2 = []\n",
    "for csv in csv_list:\n",
    "  y_binary2.append(setY('2019',12, csv))"
   ]
  },
  {
   "cell_type": "code",
   "execution_count": 55,
   "metadata": {
    "colab": {
     "base_uri": "https://localhost:8080/"
    },
    "id": "fLSZqkkrBESo",
    "outputId": "4b0fbb94-7ed2-4f0c-8e17-0006fa10d10a"
   },
   "outputs": [
    {
     "data": {
      "text/plain": [
       "[0, 1, 0, 1, 1, 1, 1, 1, 0, 0, 0, 0, 0, 0, 1, 1, 1, 1, 0, 1]"
      ]
     },
     "execution_count": 55,
     "metadata": {},
     "output_type": "execute_result"
    }
   ],
   "source": [
    "y_binary2"
   ]
  },
  {
   "cell_type": "code",
   "execution_count": 56,
   "metadata": {
    "id": "R5qhDLKM7buy"
   },
   "outputs": [],
   "source": [
    "from sklearn.linear_model import LogisticRegression"
   ]
  },
  {
   "cell_type": "code",
   "execution_count": 57,
   "metadata": {
    "colab": {
     "base_uri": "https://localhost:8080/"
    },
    "id": "D74bBWQNABCZ",
    "outputId": "ef5473aa-067b-4cdc-eb7a-2351aea437f7"
   },
   "outputs": [
    {
     "data": {
      "text/plain": [
       "LogisticRegression()"
      ]
     },
     "execution_count": 57,
     "metadata": {},
     "output_type": "execute_result"
    }
   ],
   "source": [
    "#logistic regression to binary y\n",
    "lor = LogisticRegression()\n",
    "lor.fit(x, y_binary)"
   ]
  },
  {
   "cell_type": "code",
   "execution_count": 58,
   "metadata": {
    "colab": {
     "base_uri": "https://localhost:8080/"
    },
    "id": "MVI1ka2VAPGY",
    "outputId": "91852e2e-aea9-4405-8ae2-329bf43aa9a3"
   },
   "outputs": [
    {
     "data": {
      "text/plain": [
       "array([[-0.26438808,  0.24006832,  0.3054004 , -0.51166954,  0.02085802]])"
      ]
     },
     "execution_count": 58,
     "metadata": {},
     "output_type": "execute_result"
    }
   ],
   "source": [
    "#better coefficient result\n",
    "lor1 = lor.fit(x, y_binary)\n",
    "lor1.coef_"
   ]
  },
  {
   "cell_type": "code",
   "execution_count": 59,
   "metadata": {
    "colab": {
     "base_uri": "https://localhost:8080/"
    },
    "id": "OtuARG5aAVAu",
    "outputId": "d9cacb93-e5bf-4652-93ac-a8c078906399"
   },
   "outputs": [
    {
     "data": {
      "text/plain": [
       "0.7"
      ]
     },
     "execution_count": 59,
     "metadata": {},
     "output_type": "execute_result"
    }
   ],
   "source": [
    "#score better\n",
    "lor1.score(x,y_binary2)"
   ]
  },
  {
   "cell_type": "code",
   "execution_count": 60,
   "metadata": {
    "colab": {
     "base_uri": "https://localhost:8080/"
    },
    "id": "HZ3pRWtCBOYj",
    "outputId": "c46a0e45-5a7c-45b5-f1b3-f45cf4794125"
   },
   "outputs": [
    {
     "data": {
      "text/plain": [
       "[[1, 1, 0, 0, 1, 1, 0, 1, 1, 1, 1, 0, 0, 0, 1, 1, 1, 1, 1, 1],\n",
       " [0, 1, 0, 1, 1, 1, 1, 1, 0, 0, 0, 0, 0, 0, 1, 1, 1, 1, 0, 1],\n",
       " [1, 1, 0, 1, 1, 1, 1, 1, 1, 1, 1, 1, 1, 1, 1, 1, 1, 1, 1, 1]]"
      ]
     },
     "execution_count": 60,
     "metadata": {},
     "output_type": "execute_result"
    }
   ],
   "source": [
    "#making all Y's binary\n",
    "y_binary_all= []\n",
    "for i in [2, 12, 21]:\n",
    "  y_val = []\n",
    "  for csv in csv_list:\n",
    "    y_val.append(setY('2019',i,csv))\n",
    "  y_binary_all.append(y_val)\n",
    "\n",
    "y_binary_all"
   ]
  },
  {
   "cell_type": "code",
   "execution_count": 61,
   "metadata": {
    "colab": {
     "base_uri": "https://localhost:8080/"
    },
    "id": "WrN77AVdDTDR",
    "outputId": "5fed12ed-a548-4da6-c2ef-34fbda31b80d"
   },
   "outputs": [
    {
     "data": {
      "text/plain": [
       "[1, 1, 0, 0, 1, 1, 0, 1, 1, 1, 1, 0, 0, 0, 1, 1, 1, 1, 1, 1]"
      ]
     },
     "execution_count": 61,
     "metadata": {},
     "output_type": "execute_result"
    }
   ],
   "source": [
    "y_binary_all[0]"
   ]
  },
  {
   "cell_type": "code",
   "execution_count": 62,
   "metadata": {
    "colab": {
     "base_uri": "https://localhost:8080/"
    },
    "id": "EYgdomltCbEF",
    "outputId": "707e1ce8-7fe6-4673-e6a3-d9d4f33afeea"
   },
   "outputs": [
    {
     "name": "stdout",
     "output_type": "stream",
     "text": [
      "[[-0.77245906 -0.06740618  0.00216265 -0.94040309 -0.95942429]]\n"
     ]
    }
   ],
   "source": [
    "#당기순이익에 대한 로지스틱 회귀분석\n",
    "lor_m = lor.fit(x,y_binary_all[0])\n",
    "\n",
    "print(lor_m.coef_)\n"
   ]
  },
  {
   "cell_type": "code",
   "execution_count": 63,
   "metadata": {
    "colab": {
     "base_uri": "https://localhost:8080/"
    },
    "id": "n5jMKD2ZDfLE",
    "outputId": "dced0673-a241-4122-b35f-c717c0371eab"
   },
   "outputs": [
    {
     "name": "stdout",
     "output_type": "stream",
     "text": [
      "[[-0.36873475 -0.57604438  0.59938636 -0.58236295 -0.75462417]]\n"
     ]
    }
   ],
   "source": [
    "#순이익증가율에 대한 로지스틱 회귀분석\n",
    "lor_i = lor.fit(x,y_binary_all[1])\n",
    "\n",
    "print(lor_i.coef_)"
   ]
  },
  {
   "cell_type": "code",
   "execution_count": 64,
   "metadata": {
    "colab": {
     "base_uri": "https://localhost:8080/"
    },
    "id": "jksNDjzPDj2U",
    "outputId": "51cc8d61-7024-4683-c1da-8df7bd2b67c8"
   },
   "outputs": [
    {
     "name": "stdout",
     "output_type": "stream",
     "text": [
      "[[-0.57036808 -0.29352139 -0.34944577 -0.58741589 -0.75975794]]\n"
     ]
    }
   ],
   "source": [
    "#직원수에 대한 로지스틱 회귀분석 -> 비논리적인 분석임을 파악\n",
    "lor_p = lor.fit(x,y_binary_all[2])\n",
    "\n",
    "print(lor_p.coef_)"
   ]
  },
  {
   "cell_type": "code",
   "execution_count": 65,
   "metadata": {
    "colab": {
     "base_uri": "https://localhost:8080/"
    },
    "id": "3aAg2NPq_YXx",
    "outputId": "b693aabf-ab2e-47c4-92c1-0a4d43eff6ab"
   },
   "outputs": [
    {
     "data": {
      "text/plain": [
       "array([[ 0.70816418, -0.3054139 ,  0.31149673,  0.26431723,  0.08933213],\n",
       "       [-1.03634808, -1.42306766, -1.00330448, -0.73713048, -0.99430437],\n",
       "       [ 2.15491794,  1.01440991,  1.60007217,  2.36056102,  2.54040173],\n",
       "       [ 0.95181748,  1.07056005,  0.88052418,  1.08550202,  0.54758754],\n",
       "       [-1.5094743 , -0.50682696, -1.58354424, -1.42061429, -1.12635211],\n",
       "       [-0.22472852, -0.13105294, -0.44803883, -1.23212242, -0.36894922],\n",
       "       [ 1.46827876, -2.09426602,  1.46215224,  0.96703532,  1.58599155],\n",
       "       [-0.84200109,  1.13400971,  0.4683012 , -0.21388838, -0.73650068],\n",
       "       [-0.88788857, -0.24709657,  0.1413901 , -0.60365871,  0.37535685],\n",
       "       [ 0.12310843,  1.452381  , -1.11235317,  0.19880962, -0.55248964],\n",
       "       [ 0.31515092,  0.43288977,  1.03280149,  0.19026514,  0.40216608],\n",
       "       [ 0.88698566,  0.3624077 ,  1.24191303,  1.45597788,  1.37714857],\n",
       "       [ 0.14459643,  1.14643862, -0.68681426,  0.34354604, -0.12522077],\n",
       "       [ 0.50874452, -0.47054533, -0.067981  ,  0.26589194,  0.51827141],\n",
       "       [ 0.25561775, -1.13501744,  0.73025713, -0.01736552,  0.29989089],\n",
       "       [-0.88127378, -0.32586952,  0.20080449, -0.42493684, -1.03472828],\n",
       "       [-0.97377424, -0.02998269, -1.20491277, -1.01308132, -1.09714976],\n",
       "       [ 0.54824248,  1.51133865,  0.61900172,  0.40761515,  0.21085025],\n",
       "       [ 0.18384187, -0.02156017, -0.83743277,  0.11897221, -0.33788854],\n",
       "       [-1.89397782, -1.43373619, -1.74433295, -1.99569559, -1.57341362]])"
      ]
     },
     "execution_count": 65,
     "metadata": {},
     "output_type": "execute_result"
    }
   ],
   "source": [
    "#더 나은 결과를 위해 x를 표준화 \n",
    "from sklearn.preprocessing import StandardScaler\n",
    "x_standadized_skl = StandardScaler().fit_transform(x)\n",
    "x_standadized_skl\n"
   ]
  },
  {
   "cell_type": "code",
   "execution_count": 66,
   "metadata": {
    "colab": {
     "base_uri": "https://localhost:8080/"
    },
    "id": "KAD44fP0AO09",
    "outputId": "21b13834-472e-45f0-b33b-83c1b00d7ee8"
   },
   "outputs": [
    {
     "data": {
      "text/plain": [
       "array([[-0.67646621, -0.03638299,  0.17341387, -1.00382837, -0.89346742]])"
      ]
     },
     "execution_count": 66,
     "metadata": {},
     "output_type": "execute_result"
    }
   ],
   "source": [
    "#표준화한 x 에대해 당기순이익에 대한 로지스틱 회귀분석 진행\n",
    "lor_m_std = lor.fit(x_standadized_skl,y_binary_all[0])\n",
    "lor_m_std.coef_"
   ]
  },
  {
   "cell_type": "code",
   "execution_count": 67,
   "metadata": {
    "colab": {
     "base_uri": "https://localhost:8080/"
    },
    "id": "HslQljunAreR",
    "outputId": "5a5761a6-df07-4fd9-b86f-9957c99db21f"
   },
   "outputs": [
    {
     "data": {
      "text/plain": [
       "array([[-0.24027414, -0.45301   ,  0.68969556, -0.5074967 , -0.79323817]])"
      ]
     },
     "execution_count": 67,
     "metadata": {},
     "output_type": "execute_result"
    }
   ],
   "source": [
    "#표준화한 x에 대해 순이익 증가율에 대한 로지스틱 회귀분석 진행\n",
    "lor_i_std = lor.fit(x_standadized_skl, y_binary_all[1])\n",
    "lor_i_std.coef_"
   ]
  },
  {
   "cell_type": "code",
   "execution_count": 69,
   "metadata": {
    "colab": {
     "base_uri": "https://localhost:8080/"
    },
    "id": "bZd6KHat-Guk",
    "outputId": "7edabdad-8a33-4ceb-d1d9-7eee2927698b"
   },
   "outputs": [
    {
     "data": {
      "text/plain": [
       "array([-9.57500935, -6.2274512 , -6.58052123, 21.75216231, -7.60647473])"
      ]
     },
     "execution_count": 69,
     "metadata": {},
     "output_type": "execute_result"
    }
   ],
   "source": [
    "#표준화한 x에 대해 스케일링한 직원수에 대한 선형회귀분석 진행\n",
    "lr_p_std = lr.fit(x_standadized_skl, y_p_scaled[2])\n",
    "lr_p_std.coef_"
   ]
  }
 ],
 "metadata": {
  "colab": {
   "collapsed_sections": [],
   "name": "linear reg for ctm.ipynb",
   "provenance": []
  },
  "kernelspec": {
   "display_name": "Python 3",
   "language": "python",
   "name": "python3"
  },
  "language_info": {
   "codemirror_mode": {
    "name": "ipython",
    "version": 3
   },
   "file_extension": ".py",
   "mimetype": "text/x-python",
   "name": "python",
   "nbconvert_exporter": "python",
   "pygments_lexer": "ipython3",
   "version": "3.8.5"
  }
 },
 "nbformat": 4,
 "nbformat_minor": 1
}
